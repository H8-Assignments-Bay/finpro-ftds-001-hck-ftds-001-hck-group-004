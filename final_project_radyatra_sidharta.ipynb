{
 "cells": [
  {
   "cell_type": "markdown",
   "metadata": {},
   "source": [
    "## I. Introduction"
   ]
  },
  {
   "cell_type": "markdown",
   "metadata": {},
   "source": [
    "## II. Library Import"
   ]
  },
  {
   "cell_type": "code",
   "execution_count": 1,
   "metadata": {},
   "outputs": [],
   "source": [
    "# Define Libraries\n",
    "\n",
    "import pandas as pd\n",
    "import numpy as np\n",
    "import matplotlib.pyplot as plt\n",
    "%matplotlib inline\n",
    "import phik\n",
    "import pickle\n",
    "\n",
    "import warnings\n",
    "warnings.filterwarnings('ignore')\n",
    "\n",
    "# For EDA\n",
    "from statistics import mode\n",
    "\n",
    "# For Feature Selection\n",
    "from sklearn.feature_selection import chi2\n",
    "from sklearn.feature_selection import SelectKBest\n",
    "\n",
    "# For Data Balancing\n",
    "from imblearn.under_sampling import NearMiss, RandomUnderSampler \n",
    "\n",
    "# For Feature Encoding\n",
    "from sklearn.preprocessing import OneHotEncoder\n",
    "\n",
    "# Handling Outlier\n",
    "from feature_engine.outliers import Winsorizer\n",
    "\n",
    "# For Feature Scaling\n",
    "from sklearn.preprocessing import MinMaxScaler\n",
    "\n",
    "# For Principal Component Analysis\n",
    "from sklearn.decomposition import PCA\n",
    "\n",
    "# For Models\n",
    "from sklearn.ensemble import RandomForestClassifier\n",
    "\n",
    "# Calculate the Variance Inflation Factor\n",
    "from statsmodels.stats.outliers_influence import variance_inflation_factor\n",
    "\n",
    "# Split between Train-Set and Test-Set\n",
    "from sklearn.model_selection import train_test_split\n",
    "\n",
    "# To Evaluate and Improve Models\n",
    "from sklearn import metrics\n",
    "from sklearn.metrics import accuracy_score,classification_report,ConfusionMatrixDisplay,confusion_matrix, roc_auc_score\n",
    "from sklearn.model_selection import cross_val_score\n",
    "from sklearn.model_selection import GridSearchCV\n",
    "from sklearn.pipeline import Pipeline, make_pipeline"
   ]
  },
  {
   "cell_type": "markdown",
   "metadata": {},
   "source": [
    "## III. Data Loading"
   ]
  },
  {
   "cell_type": "code",
   "execution_count": 2,
   "metadata": {},
   "outputs": [
    {
     "data": {
      "text/html": [
       "<div>\n",
       "<style scoped>\n",
       "    .dataframe tbody tr th:only-of-type {\n",
       "        vertical-align: middle;\n",
       "    }\n",
       "\n",
       "    .dataframe tbody tr th {\n",
       "        vertical-align: top;\n",
       "    }\n",
       "\n",
       "    .dataframe thead th {\n",
       "        text-align: right;\n",
       "    }\n",
       "</style>\n",
       "<table border=\"1\" class=\"dataframe\">\n",
       "  <thead>\n",
       "    <tr style=\"text-align: right;\">\n",
       "      <th></th>\n",
       "      <th>id</th>\n",
       "      <th>member_id</th>\n",
       "      <th>loan_amnt</th>\n",
       "      <th>funded_amnt</th>\n",
       "      <th>funded_amnt_inv</th>\n",
       "      <th>term</th>\n",
       "      <th>int_rate</th>\n",
       "      <th>installment</th>\n",
       "      <th>grade</th>\n",
       "      <th>sub_grade</th>\n",
       "      <th>...</th>\n",
       "      <th>total_bal_il</th>\n",
       "      <th>il_util</th>\n",
       "      <th>open_rv_12m</th>\n",
       "      <th>open_rv_24m</th>\n",
       "      <th>max_bal_bc</th>\n",
       "      <th>all_util</th>\n",
       "      <th>total_rev_hi_lim</th>\n",
       "      <th>inq_fi</th>\n",
       "      <th>total_cu_tl</th>\n",
       "      <th>inq_last_12m</th>\n",
       "    </tr>\n",
       "  </thead>\n",
       "  <tbody>\n",
       "    <tr>\n",
       "      <th>0</th>\n",
       "      <td>1077501</td>\n",
       "      <td>1296599</td>\n",
       "      <td>5000.0</td>\n",
       "      <td>5000.0</td>\n",
       "      <td>4975.0</td>\n",
       "      <td>36 months</td>\n",
       "      <td>10.65</td>\n",
       "      <td>162.87</td>\n",
       "      <td>B</td>\n",
       "      <td>B2</td>\n",
       "      <td>...</td>\n",
       "      <td>NaN</td>\n",
       "      <td>NaN</td>\n",
       "      <td>NaN</td>\n",
       "      <td>NaN</td>\n",
       "      <td>NaN</td>\n",
       "      <td>NaN</td>\n",
       "      <td>NaN</td>\n",
       "      <td>NaN</td>\n",
       "      <td>NaN</td>\n",
       "      <td>NaN</td>\n",
       "    </tr>\n",
       "    <tr>\n",
       "      <th>1</th>\n",
       "      <td>1077430</td>\n",
       "      <td>1314167</td>\n",
       "      <td>2500.0</td>\n",
       "      <td>2500.0</td>\n",
       "      <td>2500.0</td>\n",
       "      <td>60 months</td>\n",
       "      <td>15.27</td>\n",
       "      <td>59.83</td>\n",
       "      <td>C</td>\n",
       "      <td>C4</td>\n",
       "      <td>...</td>\n",
       "      <td>NaN</td>\n",
       "      <td>NaN</td>\n",
       "      <td>NaN</td>\n",
       "      <td>NaN</td>\n",
       "      <td>NaN</td>\n",
       "      <td>NaN</td>\n",
       "      <td>NaN</td>\n",
       "      <td>NaN</td>\n",
       "      <td>NaN</td>\n",
       "      <td>NaN</td>\n",
       "    </tr>\n",
       "    <tr>\n",
       "      <th>2</th>\n",
       "      <td>1077175</td>\n",
       "      <td>1313524</td>\n",
       "      <td>2400.0</td>\n",
       "      <td>2400.0</td>\n",
       "      <td>2400.0</td>\n",
       "      <td>36 months</td>\n",
       "      <td>15.96</td>\n",
       "      <td>84.33</td>\n",
       "      <td>C</td>\n",
       "      <td>C5</td>\n",
       "      <td>...</td>\n",
       "      <td>NaN</td>\n",
       "      <td>NaN</td>\n",
       "      <td>NaN</td>\n",
       "      <td>NaN</td>\n",
       "      <td>NaN</td>\n",
       "      <td>NaN</td>\n",
       "      <td>NaN</td>\n",
       "      <td>NaN</td>\n",
       "      <td>NaN</td>\n",
       "      <td>NaN</td>\n",
       "    </tr>\n",
       "    <tr>\n",
       "      <th>3</th>\n",
       "      <td>1076863</td>\n",
       "      <td>1277178</td>\n",
       "      <td>10000.0</td>\n",
       "      <td>10000.0</td>\n",
       "      <td>10000.0</td>\n",
       "      <td>36 months</td>\n",
       "      <td>13.49</td>\n",
       "      <td>339.31</td>\n",
       "      <td>C</td>\n",
       "      <td>C1</td>\n",
       "      <td>...</td>\n",
       "      <td>NaN</td>\n",
       "      <td>NaN</td>\n",
       "      <td>NaN</td>\n",
       "      <td>NaN</td>\n",
       "      <td>NaN</td>\n",
       "      <td>NaN</td>\n",
       "      <td>NaN</td>\n",
       "      <td>NaN</td>\n",
       "      <td>NaN</td>\n",
       "      <td>NaN</td>\n",
       "    </tr>\n",
       "    <tr>\n",
       "      <th>4</th>\n",
       "      <td>1075358</td>\n",
       "      <td>1311748</td>\n",
       "      <td>3000.0</td>\n",
       "      <td>3000.0</td>\n",
       "      <td>3000.0</td>\n",
       "      <td>60 months</td>\n",
       "      <td>12.69</td>\n",
       "      <td>67.79</td>\n",
       "      <td>B</td>\n",
       "      <td>B5</td>\n",
       "      <td>...</td>\n",
       "      <td>NaN</td>\n",
       "      <td>NaN</td>\n",
       "      <td>NaN</td>\n",
       "      <td>NaN</td>\n",
       "      <td>NaN</td>\n",
       "      <td>NaN</td>\n",
       "      <td>NaN</td>\n",
       "      <td>NaN</td>\n",
       "      <td>NaN</td>\n",
       "      <td>NaN</td>\n",
       "    </tr>\n",
       "    <tr>\n",
       "      <th>...</th>\n",
       "      <td>...</td>\n",
       "      <td>...</td>\n",
       "      <td>...</td>\n",
       "      <td>...</td>\n",
       "      <td>...</td>\n",
       "      <td>...</td>\n",
       "      <td>...</td>\n",
       "      <td>...</td>\n",
       "      <td>...</td>\n",
       "      <td>...</td>\n",
       "      <td>...</td>\n",
       "      <td>...</td>\n",
       "      <td>...</td>\n",
       "      <td>...</td>\n",
       "      <td>...</td>\n",
       "      <td>...</td>\n",
       "      <td>...</td>\n",
       "      <td>...</td>\n",
       "      <td>...</td>\n",
       "      <td>...</td>\n",
       "      <td>...</td>\n",
       "    </tr>\n",
       "    <tr>\n",
       "      <th>887374</th>\n",
       "      <td>36371250</td>\n",
       "      <td>39102635</td>\n",
       "      <td>10000.0</td>\n",
       "      <td>10000.0</td>\n",
       "      <td>10000.0</td>\n",
       "      <td>36 months</td>\n",
       "      <td>11.99</td>\n",
       "      <td>332.10</td>\n",
       "      <td>B</td>\n",
       "      <td>B5</td>\n",
       "      <td>...</td>\n",
       "      <td>NaN</td>\n",
       "      <td>NaN</td>\n",
       "      <td>NaN</td>\n",
       "      <td>NaN</td>\n",
       "      <td>NaN</td>\n",
       "      <td>NaN</td>\n",
       "      <td>17100.0</td>\n",
       "      <td>NaN</td>\n",
       "      <td>NaN</td>\n",
       "      <td>NaN</td>\n",
       "    </tr>\n",
       "    <tr>\n",
       "      <th>887375</th>\n",
       "      <td>36441262</td>\n",
       "      <td>39152692</td>\n",
       "      <td>24000.0</td>\n",
       "      <td>24000.0</td>\n",
       "      <td>24000.0</td>\n",
       "      <td>36 months</td>\n",
       "      <td>11.99</td>\n",
       "      <td>797.03</td>\n",
       "      <td>B</td>\n",
       "      <td>B5</td>\n",
       "      <td>...</td>\n",
       "      <td>NaN</td>\n",
       "      <td>NaN</td>\n",
       "      <td>NaN</td>\n",
       "      <td>NaN</td>\n",
       "      <td>NaN</td>\n",
       "      <td>NaN</td>\n",
       "      <td>10200.0</td>\n",
       "      <td>NaN</td>\n",
       "      <td>NaN</td>\n",
       "      <td>NaN</td>\n",
       "    </tr>\n",
       "    <tr>\n",
       "      <th>887376</th>\n",
       "      <td>36271333</td>\n",
       "      <td>38982739</td>\n",
       "      <td>13000.0</td>\n",
       "      <td>13000.0</td>\n",
       "      <td>13000.0</td>\n",
       "      <td>60 months</td>\n",
       "      <td>15.99</td>\n",
       "      <td>316.07</td>\n",
       "      <td>D</td>\n",
       "      <td>D2</td>\n",
       "      <td>...</td>\n",
       "      <td>NaN</td>\n",
       "      <td>NaN</td>\n",
       "      <td>NaN</td>\n",
       "      <td>NaN</td>\n",
       "      <td>NaN</td>\n",
       "      <td>NaN</td>\n",
       "      <td>18000.0</td>\n",
       "      <td>NaN</td>\n",
       "      <td>NaN</td>\n",
       "      <td>NaN</td>\n",
       "    </tr>\n",
       "    <tr>\n",
       "      <th>887377</th>\n",
       "      <td>36490806</td>\n",
       "      <td>39222577</td>\n",
       "      <td>12000.0</td>\n",
       "      <td>12000.0</td>\n",
       "      <td>12000.0</td>\n",
       "      <td>60 months</td>\n",
       "      <td>19.99</td>\n",
       "      <td>317.86</td>\n",
       "      <td>E</td>\n",
       "      <td>E3</td>\n",
       "      <td>...</td>\n",
       "      <td>NaN</td>\n",
       "      <td>NaN</td>\n",
       "      <td>NaN</td>\n",
       "      <td>NaN</td>\n",
       "      <td>NaN</td>\n",
       "      <td>NaN</td>\n",
       "      <td>27000.0</td>\n",
       "      <td>NaN</td>\n",
       "      <td>NaN</td>\n",
       "      <td>NaN</td>\n",
       "    </tr>\n",
       "    <tr>\n",
       "      <th>887378</th>\n",
       "      <td>36271262</td>\n",
       "      <td>38982659</td>\n",
       "      <td>20000.0</td>\n",
       "      <td>20000.0</td>\n",
       "      <td>20000.0</td>\n",
       "      <td>36 months</td>\n",
       "      <td>11.99</td>\n",
       "      <td>664.20</td>\n",
       "      <td>B</td>\n",
       "      <td>B5</td>\n",
       "      <td>...</td>\n",
       "      <td>NaN</td>\n",
       "      <td>NaN</td>\n",
       "      <td>NaN</td>\n",
       "      <td>NaN</td>\n",
       "      <td>NaN</td>\n",
       "      <td>NaN</td>\n",
       "      <td>41700.0</td>\n",
       "      <td>NaN</td>\n",
       "      <td>NaN</td>\n",
       "      <td>NaN</td>\n",
       "    </tr>\n",
       "  </tbody>\n",
       "</table>\n",
       "<p>887379 rows × 74 columns</p>\n",
       "</div>"
      ],
      "text/plain": [
       "              id  member_id  loan_amnt  funded_amnt  funded_amnt_inv  \\\n",
       "0        1077501    1296599     5000.0       5000.0           4975.0   \n",
       "1        1077430    1314167     2500.0       2500.0           2500.0   \n",
       "2        1077175    1313524     2400.0       2400.0           2400.0   \n",
       "3        1076863    1277178    10000.0      10000.0          10000.0   \n",
       "4        1075358    1311748     3000.0       3000.0           3000.0   \n",
       "...          ...        ...        ...          ...              ...   \n",
       "887374  36371250   39102635    10000.0      10000.0          10000.0   \n",
       "887375  36441262   39152692    24000.0      24000.0          24000.0   \n",
       "887376  36271333   38982739    13000.0      13000.0          13000.0   \n",
       "887377  36490806   39222577    12000.0      12000.0          12000.0   \n",
       "887378  36271262   38982659    20000.0      20000.0          20000.0   \n",
       "\n",
       "              term  int_rate  installment grade sub_grade  ... total_bal_il  \\\n",
       "0        36 months     10.65       162.87     B        B2  ...          NaN   \n",
       "1        60 months     15.27        59.83     C        C4  ...          NaN   \n",
       "2        36 months     15.96        84.33     C        C5  ...          NaN   \n",
       "3        36 months     13.49       339.31     C        C1  ...          NaN   \n",
       "4        60 months     12.69        67.79     B        B5  ...          NaN   \n",
       "...            ...       ...          ...   ...       ...  ...          ...   \n",
       "887374   36 months     11.99       332.10     B        B5  ...          NaN   \n",
       "887375   36 months     11.99       797.03     B        B5  ...          NaN   \n",
       "887376   60 months     15.99       316.07     D        D2  ...          NaN   \n",
       "887377   60 months     19.99       317.86     E        E3  ...          NaN   \n",
       "887378   36 months     11.99       664.20     B        B5  ...          NaN   \n",
       "\n",
       "       il_util open_rv_12m  open_rv_24m max_bal_bc all_util total_rev_hi_lim  \\\n",
       "0          NaN         NaN          NaN        NaN      NaN              NaN   \n",
       "1          NaN         NaN          NaN        NaN      NaN              NaN   \n",
       "2          NaN         NaN          NaN        NaN      NaN              NaN   \n",
       "3          NaN         NaN          NaN        NaN      NaN              NaN   \n",
       "4          NaN         NaN          NaN        NaN      NaN              NaN   \n",
       "...        ...         ...          ...        ...      ...              ...   \n",
       "887374     NaN         NaN          NaN        NaN      NaN          17100.0   \n",
       "887375     NaN         NaN          NaN        NaN      NaN          10200.0   \n",
       "887376     NaN         NaN          NaN        NaN      NaN          18000.0   \n",
       "887377     NaN         NaN          NaN        NaN      NaN          27000.0   \n",
       "887378     NaN         NaN          NaN        NaN      NaN          41700.0   \n",
       "\n",
       "       inq_fi total_cu_tl inq_last_12m  \n",
       "0         NaN         NaN          NaN  \n",
       "1         NaN         NaN          NaN  \n",
       "2         NaN         NaN          NaN  \n",
       "3         NaN         NaN          NaN  \n",
       "4         NaN         NaN          NaN  \n",
       "...       ...         ...          ...  \n",
       "887374    NaN         NaN          NaN  \n",
       "887375    NaN         NaN          NaN  \n",
       "887376    NaN         NaN          NaN  \n",
       "887377    NaN         NaN          NaN  \n",
       "887378    NaN         NaN          NaN  \n",
       "\n",
       "[887379 rows x 74 columns]"
      ]
     },
     "execution_count": 2,
     "metadata": {},
     "output_type": "execute_result"
    }
   ],
   "source": [
    "# Loading the csv file using pd.read.\n",
    "df = pd.read_csv('loan.csv')\n",
    "df"
   ]
  },
  {
   "cell_type": "markdown",
   "metadata": {},
   "source": [
    "## IV. Exploratory Data Analysis"
   ]
  },
  {
   "cell_type": "code",
   "execution_count": 3,
   "metadata": {},
   "outputs": [
    {
     "data": {
      "text/plain": [
       "id                    int64\n",
       "member_id             int64\n",
       "loan_amnt           float64\n",
       "funded_amnt         float64\n",
       "funded_amnt_inv     float64\n",
       "                     ...   \n",
       "all_util            float64\n",
       "total_rev_hi_lim    float64\n",
       "inq_fi              float64\n",
       "total_cu_tl         float64\n",
       "inq_last_12m        float64\n",
       "Length: 74, dtype: object"
      ]
     },
     "execution_count": 3,
     "metadata": {},
     "output_type": "execute_result"
    }
   ],
   "source": [
    "# Identifying types of data for each column in our dataset.\n",
    "df.dtypes"
   ]
  },
  {
   "cell_type": "markdown",
   "metadata": {},
   "source": [
    "### a. Dataset Summary"
   ]
  },
  {
   "cell_type": "markdown",
   "metadata": {},
   "source": [
    "### b. Not-a-Number (NaN) Handling"
   ]
  },
  {
   "cell_type": "code",
   "execution_count": 15,
   "metadata": {},
   "outputs": [
    {
     "data": {
      "text/plain": [
       "dti_joint                      886870\n",
       "annual_inc_joint               886868\n",
       "verification_status_joint      886868\n",
       "il_util                        868762\n",
       "mths_since_rcnt_il             866569\n",
       "open_acc_6m                    866007\n",
       "open_il_6m                     866007\n",
       "open_il_12m                    866007\n",
       "open_il_24m                    866007\n",
       "total_bal_il                   866007\n",
       "inq_last_12m                   866007\n",
       "open_rv_12m                    866007\n",
       "open_rv_24m                    866007\n",
       "max_bal_bc                     866007\n",
       "all_util                       866007\n",
       "inq_fi                         866007\n",
       "total_cu_tl                    866007\n",
       "desc                           761351\n",
       "mths_since_last_record         750326\n",
       "mths_since_last_major_derog    665676\n",
       "mths_since_last_delinq         454312\n",
       "next_pymnt_d                   252971\n",
       "tot_coll_amt                    70276\n",
       "tot_cur_bal                     70276\n",
       "total_rev_hi_lim                70276\n",
       "emp_title                       51462\n",
       "emp_length                      44825\n",
       "last_pymnt_d                    17659\n",
       "revol_util                        502\n",
       "title                             152\n",
       "collections_12_mths_ex_med        145\n",
       "last_credit_pull_d                 53\n",
       "open_acc                           29\n",
       "pub_rec                            29\n",
       "total_acc                          29\n",
       "inq_last_6mths                     29\n",
       "earliest_cr_line                   29\n",
       "delinq_2yrs                        29\n",
       "acc_now_delinq                     29\n",
       "annual_inc                          4\n",
       "collection_recovery_fee             0\n",
       "application_type                    0\n",
       "policy_code                         0\n",
       "last_pymnt_amnt                     0\n",
       "id                                  0\n",
       "dtype: int64"
      ]
     },
     "execution_count": 15,
     "metadata": {},
     "output_type": "execute_result"
    }
   ],
   "source": [
    "# Finding NaNs (Not a Number) / Nulls (Zeros) in our data.\n",
    "df.isnull().sum().sort_values(ascending=False).head(45)"
   ]
  },
  {
   "cell_type": "code",
   "execution_count": 4,
   "metadata": {},
   "outputs": [
    {
     "data": {
      "text/plain": [
       "{'id': 0,\n",
       " 'member_id': 0,\n",
       " 'loan_amnt': 0,\n",
       " 'funded_amnt': 0,\n",
       " 'funded_amnt_inv': 0,\n",
       " 'term': 0,\n",
       " 'int_rate': 0,\n",
       " 'installment': 0,\n",
       " 'grade': 0,\n",
       " 'sub_grade': 0,\n",
       " 'emp_title': 0,\n",
       " 'emp_length': 0,\n",
       " 'home_ownership': 0,\n",
       " 'annual_inc': 0,\n",
       " 'verification_status': 0,\n",
       " 'issue_d': 0,\n",
       " 'loan_status': 0,\n",
       " 'pymnt_plan': 0,\n",
       " 'url': 0,\n",
       " 'desc': 246,\n",
       " 'purpose': 0,\n",
       " 'title': 0,\n",
       " 'zip_code': 0,\n",
       " 'addr_state': 0,\n",
       " 'dti': 0,\n",
       " 'delinq_2yrs': 0,\n",
       " 'earliest_cr_line': 0,\n",
       " 'inq_last_6mths': 0,\n",
       " 'mths_since_last_delinq': 0,\n",
       " 'mths_since_last_record': 0,\n",
       " 'open_acc': 0,\n",
       " 'pub_rec': 0,\n",
       " 'revol_bal': 0,\n",
       " 'revol_util': 0,\n",
       " 'total_acc': 0,\n",
       " 'initial_list_status': 0,\n",
       " 'out_prncp': 0,\n",
       " 'out_prncp_inv': 0,\n",
       " 'total_pymnt': 0,\n",
       " 'total_pymnt_inv': 0,\n",
       " 'total_rec_prncp': 0,\n",
       " 'total_rec_int': 0,\n",
       " 'total_rec_late_fee': 0,\n",
       " 'recoveries': 0,\n",
       " 'collection_recovery_fee': 0,\n",
       " 'last_pymnt_d': 0,\n",
       " 'last_pymnt_amnt': 0,\n",
       " 'next_pymnt_d': 0,\n",
       " 'last_credit_pull_d': 0,\n",
       " 'collections_12_mths_ex_med': 0,\n",
       " 'mths_since_last_major_derog': 0,\n",
       " 'policy_code': 0,\n",
       " 'application_type': 0,\n",
       " 'annual_inc_joint': 0,\n",
       " 'dti_joint': 0,\n",
       " 'verification_status_joint': 0,\n",
       " 'acc_now_delinq': 0,\n",
       " 'tot_coll_amt': 0,\n",
       " 'tot_cur_bal': 0,\n",
       " 'open_acc_6m': 0,\n",
       " 'open_il_6m': 0,\n",
       " 'open_il_12m': 0,\n",
       " 'open_il_24m': 0,\n",
       " 'mths_since_rcnt_il': 0,\n",
       " 'total_bal_il': 0,\n",
       " 'il_util': 0,\n",
       " 'open_rv_12m': 0,\n",
       " 'open_rv_24m': 0,\n",
       " 'max_bal_bc': 0,\n",
       " 'all_util': 0,\n",
       " 'total_rev_hi_lim': 0,\n",
       " 'inq_fi': 0,\n",
       " 'total_cu_tl': 0,\n",
       " 'inq_last_12m': 0}"
      ]
     },
     "execution_count": 4,
     "metadata": {},
     "output_type": "execute_result"
    }
   ],
   "source": [
    "# Detecting other forms of anomalies in our dataset.\n",
    "anomalous_entries = {}\n",
    "\n",
    "for x in list(df.columns):\n",
    "    anomalous_entries[x] = 0\n",
    "    for y in df[x]:\n",
    "        if y in ['NaN', 'N/A', '--', '-', 'Null', '?', ' ']: # These are the specific NaN values we will be sweeping for.\n",
    "            anomalous_entries[x] = anomalous_entries[x] + 1\n",
    "\n",
    "anomalous_entries"
   ]
  },
  {
   "cell_type": "code",
   "execution_count": 5,
   "metadata": {},
   "outputs": [
    {
     "data": {
      "text/plain": [
       "0         10+ years\n",
       "1          < 1 year\n",
       "2         10+ years\n",
       "3         10+ years\n",
       "4            1 year\n",
       "            ...    \n",
       "887374      8 years\n",
       "887375    10+ years\n",
       "887376      5 years\n",
       "887377       1 year\n",
       "887378    10+ years\n",
       "Name: emp_length, Length: 887379, dtype: object"
      ]
     },
     "execution_count": 5,
     "metadata": {},
     "output_type": "execute_result"
    }
   ],
   "source": [
    "df['emp_length']"
   ]
  },
  {
   "cell_type": "code",
   "execution_count": 20,
   "metadata": {},
   "outputs": [
    {
     "data": {
      "text/plain": [
       "0           Borrower added on 12/22/11 > I need to upgra...\n",
       "1           Borrower added on 12/22/11 > I plan to use t...\n",
       "2                                                       NaN\n",
       "3           Borrower added on 12/21/11 > to pay for prop...\n",
       "4           Borrower added on 12/21/11 > I plan on combi...\n",
       "                                ...                        \n",
       "887374                                                  NaN\n",
       "887375                                                  NaN\n",
       "887376                                                  NaN\n",
       "887377                                                  NaN\n",
       "887378                                                  NaN\n",
       "Name: desc, Length: 887379, dtype: object"
      ]
     },
     "execution_count": 20,
     "metadata": {},
     "output_type": "execute_result"
    }
   ],
   "source": [
    "df['desc']"
   ]
  },
  {
   "cell_type": "code",
   "execution_count": 22,
   "metadata": {},
   "outputs": [
    {
     "data": {
      "text/plain": [
       "218986           \\tcredit_card\n",
       "220035           \\tcredit_card\n",
       "3765      \\tdebt_consolidation\n",
       "218172    \\tdebt_consolidation\n",
       "3324      \\tdebt_consolidation\n",
       "                  ...         \n",
       "473064                     NaN\n",
       "473073                     NaN\n",
       "474217                     NaN\n",
       "475119                     NaN\n",
       "475450                     NaN\n",
       "Name: title, Length: 887379, dtype: object"
      ]
     },
     "execution_count": 22,
     "metadata": {},
     "output_type": "execute_result"
    }
   ],
   "source": [
    "df['title'].sort_values()"
   ]
  },
  {
   "cell_type": "code",
   "execution_count": 26,
   "metadata": {},
   "outputs": [
    {
     "data": {
      "text/plain": [
       "783008    39.0\n",
       "524079    30.0\n",
       "136194    29.0\n",
       "735685    27.0\n",
       "670113    26.0\n",
       "          ... \n",
       "42530      NaN\n",
       "42531      NaN\n",
       "42532      NaN\n",
       "42533      NaN\n",
       "42534      NaN\n",
       "Name: delinq_2yrs, Length: 887379, dtype: float64"
      ]
     },
     "execution_count": 26,
     "metadata": {},
     "output_type": "execute_result"
    }
   ],
   "source": [
    "df['delinq_2yrs'].sort_values(ascending=False)"
   ]
  },
  {
   "cell_type": "code",
   "execution_count": 28,
   "metadata": {},
   "outputs": [
    {
     "data": {
      "text/plain": [
       "538829    Apr-1955\n",
       "123026    Apr-1955\n",
       "839958    Apr-1958\n",
       "577414    Apr-1960\n",
       "423675    Apr-1961\n",
       "            ...   \n",
       "42530          NaN\n",
       "42531          NaN\n",
       "42532          NaN\n",
       "42533          NaN\n",
       "42534          NaN\n",
       "Name: earliest_cr_line, Length: 887379, dtype: object"
      ]
     },
     "execution_count": 28,
     "metadata": {},
     "output_type": "execute_result"
    }
   ],
   "source": [
    "df['earliest_cr_line'].sort_values()"
   ]
  },
  {
   "cell_type": "code",
   "execution_count": 30,
   "metadata": {},
   "outputs": [
    {
     "data": {
      "text/plain": [
       "41657    33.0\n",
       "41848    32.0\n",
       "42223    31.0\n",
       "42234    28.0\n",
       "42241    27.0\n",
       "         ... \n",
       "42530     NaN\n",
       "42531     NaN\n",
       "42532     NaN\n",
       "42533     NaN\n",
       "42534     NaN\n",
       "Name: inq_last_6mths, Length: 887379, dtype: float64"
      ]
     },
     "execution_count": 30,
     "metadata": {},
     "output_type": "execute_result"
    }
   ],
   "source": [
    "df['inq_last_6mths'].sort_values(ascending=False)"
   ]
  },
  {
   "cell_type": "code",
   "execution_count": 31,
   "metadata": {},
   "outputs": [
    {
     "data": {
      "text/plain": [
       "394904    188.0\n",
       "392664    180.0\n",
       "809435    176.0\n",
       "639674    171.0\n",
       "624963    170.0\n",
       "          ...  \n",
       "887369      NaN\n",
       "887373      NaN\n",
       "887374      NaN\n",
       "887376      NaN\n",
       "887378      NaN\n",
       "Name: mths_since_last_delinq, Length: 887379, dtype: float64"
      ]
     },
     "execution_count": 31,
     "metadata": {},
     "output_type": "execute_result"
    }
   ],
   "source": [
    "df['mths_since_last_delinq'].sort_values(ascending=False)"
   ]
  },
  {
   "cell_type": "code",
   "execution_count": 32,
   "metadata": {},
   "outputs": [
    {
     "data": {
      "text/plain": [
       "39283     129.0\n",
       "462657    121.0\n",
       "49210     121.0\n",
       "483658    120.0\n",
       "487013    120.0\n",
       "          ...  \n",
       "887371      NaN\n",
       "887372      NaN\n",
       "887373      NaN\n",
       "887375      NaN\n",
       "887377      NaN\n",
       "Name: mths_since_last_record, Length: 887379, dtype: float64"
      ]
     },
     "execution_count": 32,
     "metadata": {},
     "output_type": "execute_result"
    }
   ],
   "source": [
    "df['mths_since_last_record'].sort_values(ascending=False)"
   ]
  },
  {
   "cell_type": "code",
   "execution_count": 33,
   "metadata": {},
   "outputs": [
    {
     "data": {
      "text/plain": [
       "886805    90.0\n",
       "281009    84.0\n",
       "629741    82.0\n",
       "848357    79.0\n",
       "349041    76.0\n",
       "          ... \n",
       "42530      NaN\n",
       "42531      NaN\n",
       "42532      NaN\n",
       "42533      NaN\n",
       "42534      NaN\n",
       "Name: open_acc, Length: 887379, dtype: float64"
      ]
     },
     "execution_count": 33,
     "metadata": {},
     "output_type": "execute_result"
    }
   ],
   "source": [
    "df['open_acc'].sort_values(ascending=False)"
   ]
  },
  {
   "cell_type": "code",
   "execution_count": 34,
   "metadata": {},
   "outputs": [
    {
     "data": {
      "text/plain": [
       "534800    86.0\n",
       "436160    63.0\n",
       "132779    54.0\n",
       "71717     49.0\n",
       "782450    49.0\n",
       "          ... \n",
       "42530      NaN\n",
       "42531      NaN\n",
       "42532      NaN\n",
       "42533      NaN\n",
       "42534      NaN\n",
       "Name: pub_rec, Length: 887379, dtype: float64"
      ]
     },
     "execution_count": 34,
     "metadata": {},
     "output_type": "execute_result"
    }
   ],
   "source": [
    "df['pub_rec'].sort_values(ascending=False)"
   ]
  },
  {
   "cell_type": "code",
   "execution_count": 38,
   "metadata": {},
   "outputs": [
    {
     "data": {
      "text/plain": [
       "406516    892.3\n",
       "368206    366.6\n",
       "671388    193.0\n",
       "880908    184.6\n",
       "574398    182.8\n",
       "          ...  \n",
       "883031      NaN\n",
       "883102      NaN\n",
       "883171      NaN\n",
       "884401      NaN\n",
       "887229      NaN\n",
       "Name: revol_util, Length: 887379, dtype: float64"
      ]
     },
     "execution_count": 38,
     "metadata": {},
     "output_type": "execute_result"
    }
   ],
   "source": [
    "df['revol_util'].sort_values(ascending=False)"
   ]
  },
  {
   "cell_type": "code",
   "execution_count": 39,
   "metadata": {},
   "outputs": [
    {
     "data": {
      "text/plain": [
       "619143    169.0\n",
       "863500    162.0\n",
       "250307    156.0\n",
       "579417    151.0\n",
       "239772    150.0\n",
       "          ...  \n",
       "42530       NaN\n",
       "42531       NaN\n",
       "42532       NaN\n",
       "42533       NaN\n",
       "42534       NaN\n",
       "Name: total_acc, Length: 887379, dtype: float64"
      ]
     },
     "execution_count": 39,
     "metadata": {},
     "output_type": "execute_result"
    }
   ],
   "source": [
    "df['total_acc'].sort_values(ascending=False)"
   ]
  },
  {
   "cell_type": "code",
   "execution_count": 40,
   "metadata": {},
   "outputs": [
    {
     "data": {
      "text/plain": [
       "727378    Sep-2015\n",
       "367274    Sep-2015\n",
       "424380    Sep-2015\n",
       "179706    Sep-2015\n",
       "424361    Sep-2015\n",
       "            ...   \n",
       "883832         NaN\n",
       "884500         NaN\n",
       "885587         NaN\n",
       "886627         NaN\n",
       "886937         NaN\n",
       "Name: last_pymnt_d, Length: 887379, dtype: object"
      ]
     },
     "execution_count": 40,
     "metadata": {},
     "output_type": "execute_result"
    }
   ],
   "source": [
    "df['last_pymnt_d'].sort_values(ascending=False)"
   ]
  },
  {
   "cell_type": "code",
   "execution_count": 41,
   "metadata": {},
   "outputs": [
    {
     "data": {
      "text/plain": [
       "40196     Sep-2015\n",
       "40218     Sep-2015\n",
       "40309     Sep-2015\n",
       "40264     Sep-2015\n",
       "40243     Sep-2015\n",
       "            ...   \n",
       "887351         NaN\n",
       "887364         NaN\n",
       "887366         NaN\n",
       "887369         NaN\n",
       "887371         NaN\n",
       "Name: next_pymnt_d, Length: 887379, dtype: object"
      ]
     },
     "execution_count": 41,
     "metadata": {},
     "output_type": "execute_result"
    }
   ],
   "source": [
    "df['next_pymnt_d'].sort_values(ascending=False)"
   ]
  },
  {
   "cell_type": "code",
   "execution_count": 42,
   "metadata": {},
   "outputs": [
    {
     "data": {
      "text/plain": [
       "49653     Sep-2015\n",
       "299448    Sep-2015\n",
       "121620    Sep-2015\n",
       "121622    Sep-2015\n",
       "322898    Sep-2015\n",
       "            ...   \n",
       "563415         NaN\n",
       "820268         NaN\n",
       "848683         NaN\n",
       "853529         NaN\n",
       "886074         NaN\n",
       "Name: last_credit_pull_d, Length: 887379, dtype: object"
      ]
     },
     "execution_count": 42,
     "metadata": {},
     "output_type": "execute_result"
    }
   ],
   "source": [
    "df['last_credit_pull_d'].sort_values(ascending=False)"
   ]
  },
  {
   "cell_type": "code",
   "execution_count": 43,
   "metadata": {},
   "outputs": [
    {
     "data": {
      "text/plain": [
       "310694    20.0\n",
       "282891    16.0\n",
       "823966    14.0\n",
       "711674    10.0\n",
       "544412     7.0\n",
       "          ... \n",
       "42530      NaN\n",
       "42531      NaN\n",
       "42532      NaN\n",
       "42533      NaN\n",
       "42534      NaN\n",
       "Name: collections_12_mths_ex_med, Length: 887379, dtype: float64"
      ]
     },
     "execution_count": 43,
     "metadata": {},
     "output_type": "execute_result"
    }
   ],
   "source": [
    "df['collections_12_mths_ex_med'].sort_values(ascending=False)"
   ]
  },
  {
   "cell_type": "code",
   "execution_count": 44,
   "metadata": {},
   "outputs": [
    {
     "data": {
      "text/plain": [
       "394904    188.0\n",
       "392664    180.0\n",
       "809435    176.0\n",
       "639674    171.0\n",
       "816903    170.0\n",
       "          ...  \n",
       "887371      NaN\n",
       "887373      NaN\n",
       "887374      NaN\n",
       "887376      NaN\n",
       "887378      NaN\n",
       "Name: mths_since_last_major_derog, Length: 887379, dtype: float64"
      ]
     },
     "execution_count": 44,
     "metadata": {},
     "output_type": "execute_result"
    }
   ],
   "source": [
    "df['mths_since_last_major_derog'].sort_values(ascending=False)"
   ]
  },
  {
   "cell_type": "code",
   "execution_count": 52,
   "metadata": {},
   "outputs": [
    {
     "data": {
      "text/plain": [
       "0         1.0\n",
       "591590    1.0\n",
       "591579    1.0\n",
       "591580    1.0\n",
       "591581    1.0\n",
       "         ... \n",
       "295796    1.0\n",
       "295797    1.0\n",
       "295798    1.0\n",
       "295799    1.0\n",
       "887378    1.0\n",
       "Name: policy_code, Length: 887379, dtype: float64"
      ]
     },
     "execution_count": 52,
     "metadata": {},
     "output_type": "execute_result"
    }
   ],
   "source": [
    "df['policy_code'].sort_values(ascending=False)"
   ]
  },
  {
   "cell_type": "code",
   "execution_count": 49,
   "metadata": {},
   "outputs": [
    {
     "data": {
      "text/html": [
       "<div>\n",
       "<style scoped>\n",
       "    .dataframe tbody tr th:only-of-type {\n",
       "        vertical-align: middle;\n",
       "    }\n",
       "\n",
       "    .dataframe tbody tr th {\n",
       "        vertical-align: top;\n",
       "    }\n",
       "\n",
       "    .dataframe thead th {\n",
       "        text-align: right;\n",
       "    }\n",
       "</style>\n",
       "<table border=\"1\" class=\"dataframe\">\n",
       "  <thead>\n",
       "    <tr style=\"text-align: right;\">\n",
       "      <th></th>\n",
       "      <th>id</th>\n",
       "      <th>member_id</th>\n",
       "      <th>loan_amnt</th>\n",
       "      <th>funded_amnt</th>\n",
       "      <th>funded_amnt_inv</th>\n",
       "      <th>term</th>\n",
       "      <th>int_rate</th>\n",
       "      <th>installment</th>\n",
       "      <th>grade</th>\n",
       "      <th>sub_grade</th>\n",
       "      <th>...</th>\n",
       "      <th>total_bal_il</th>\n",
       "      <th>il_util</th>\n",
       "      <th>open_rv_12m</th>\n",
       "      <th>open_rv_24m</th>\n",
       "      <th>max_bal_bc</th>\n",
       "      <th>all_util</th>\n",
       "      <th>total_rev_hi_lim</th>\n",
       "      <th>inq_fi</th>\n",
       "      <th>total_cu_tl</th>\n",
       "      <th>inq_last_12m</th>\n",
       "    </tr>\n",
       "  </thead>\n",
       "  <tbody>\n",
       "  </tbody>\n",
       "</table>\n",
       "<p>0 rows × 74 columns</p>\n",
       "</div>"
      ],
      "text/plain": [
       "Empty DataFrame\n",
       "Columns: [id, member_id, loan_amnt, funded_amnt, funded_amnt_inv, term, int_rate, installment, grade, sub_grade, emp_title, emp_length, home_ownership, annual_inc, verification_status, issue_d, loan_status, pymnt_plan, url, desc, purpose, title, zip_code, addr_state, dti, delinq_2yrs, earliest_cr_line, inq_last_6mths, mths_since_last_delinq, mths_since_last_record, open_acc, pub_rec, revol_bal, revol_util, total_acc, initial_list_status, out_prncp, out_prncp_inv, total_pymnt, total_pymnt_inv, total_rec_prncp, total_rec_int, total_rec_late_fee, recoveries, collection_recovery_fee, last_pymnt_d, last_pymnt_amnt, next_pymnt_d, last_credit_pull_d, collections_12_mths_ex_med, mths_since_last_major_derog, policy_code, application_type, annual_inc_joint, dti_joint, verification_status_joint, acc_now_delinq, tot_coll_amt, tot_cur_bal, open_acc_6m, open_il_6m, open_il_12m, open_il_24m, mths_since_rcnt_il, total_bal_il, il_util, open_rv_12m, open_rv_24m, max_bal_bc, all_util, total_rev_hi_lim, inq_fi, total_cu_tl, inq_last_12m]\n",
       "Index: []\n",
       "\n",
       "[0 rows x 74 columns]"
      ]
     },
     "execution_count": 49,
     "metadata": {},
     "output_type": "execute_result"
    }
   ],
   "source": [
    "df.loc[df['policy_code']!= 1.0]"
   ]
  },
  {
   "cell_type": "code",
   "execution_count": 55,
   "metadata": {},
   "outputs": [
    {
     "data": {
      "text/plain": [
       "484827    500000.0\n",
       "469336    425000.0\n",
       "561504    410000.0\n",
       "549955    375000.0\n",
       "470116    340000.0\n",
       "            ...   \n",
       "887374         NaN\n",
       "887375         NaN\n",
       "887376         NaN\n",
       "887377         NaN\n",
       "887378         NaN\n",
       "Name: annual_inc_joint, Length: 887379, dtype: float64"
      ]
     },
     "execution_count": 55,
     "metadata": {},
     "output_type": "execute_result"
    }
   ],
   "source": [
    "df['annual_inc_joint'].sort_values(ascending=False)"
   ]
  },
  {
   "cell_type": "code",
   "execution_count": 58,
   "metadata": {},
   "outputs": [
    {
     "data": {
      "text/plain": [
       "499293    43.86\n",
       "475203    39.50\n",
       "493539    39.30\n",
       "484472    38.19\n",
       "479924    37.81\n",
       "          ...  \n",
       "887374      NaN\n",
       "887375      NaN\n",
       "887376      NaN\n",
       "887377      NaN\n",
       "887378      NaN\n",
       "Name: dti_joint, Length: 887379, dtype: float64"
      ]
     },
     "execution_count": 58,
     "metadata": {},
     "output_type": "execute_result"
    }
   ],
   "source": [
    "df['dti_joint'].sort_values(ascending=False)"
   ]
  },
  {
   "cell_type": "code",
   "execution_count": 62,
   "metadata": {},
   "outputs": [
    {
     "data": {
      "text/plain": [
       "530914    Verified\n",
       "487235    Verified\n",
       "486082    Verified\n",
       "486168    Verified\n",
       "486212    Verified\n",
       "            ...   \n",
       "887374         NaN\n",
       "887375         NaN\n",
       "887376         NaN\n",
       "887377         NaN\n",
       "887378         NaN\n",
       "Name: verification_status_joint, Length: 887379, dtype: object"
      ]
     },
     "execution_count": 62,
     "metadata": {},
     "output_type": "execute_result"
    }
   ],
   "source": [
    "df['verification_status_joint'].sort_values(ascending=False)"
   ]
  },
  {
   "cell_type": "code",
   "execution_count": 66,
   "metadata": {},
   "outputs": [
    {
     "data": {
      "text/plain": [
       "823966    14.0\n",
       "744994     6.0\n",
       "641008     5.0\n",
       "121844     5.0\n",
       "81058      5.0\n",
       "          ... \n",
       "42530      NaN\n",
       "42531      NaN\n",
       "42532      NaN\n",
       "42533      NaN\n",
       "42534      NaN\n",
       "Name: acc_now_delinq, Length: 887379, dtype: float64"
      ]
     },
     "execution_count": 66,
     "metadata": {},
     "output_type": "execute_result"
    }
   ],
   "source": [
    "df['acc_now_delinq'].sort_values(ascending=False)"
   ]
  },
  {
   "cell_type": "code",
   "execution_count": 69,
   "metadata": {},
   "outputs": [
    {
     "data": {
      "text/plain": [
       "416962    9152545.0\n",
       "842625     496651.0\n",
       "603604     380757.0\n",
       "267841     296368.0\n",
       "595163     262740.0\n",
       "            ...    \n",
       "230652          NaN\n",
       "230653          NaN\n",
       "230654          NaN\n",
       "230655          NaN\n",
       "230656          NaN\n",
       "Name: tot_coll_amt, Length: 887379, dtype: float64"
      ]
     },
     "execution_count": 69,
     "metadata": {},
     "output_type": "execute_result"
    }
   ],
   "source": [
    "df['tot_coll_amt'].sort_values(ascending=False)"
   ]
  },
  {
   "cell_type": "code",
   "execution_count": 72,
   "metadata": {},
   "outputs": [
    {
     "data": {
      "text/plain": [
       "180080    8000078.0\n",
       "177927    4772549.0\n",
       "755746    4447397.0\n",
       "629047    4127799.0\n",
       "234444    4026405.0\n",
       "            ...    \n",
       "230652          NaN\n",
       "230653          NaN\n",
       "230654          NaN\n",
       "230655          NaN\n",
       "230656          NaN\n",
       "Name: tot_cur_bal, Length: 887379, dtype: float64"
      ]
     },
     "execution_count": 72,
     "metadata": {},
     "output_type": "execute_result"
    }
   ],
   "source": [
    "df['tot_cur_bal'].sort_values(ascending=False)"
   ]
  },
  {
   "cell_type": "code",
   "execution_count": 75,
   "metadata": {},
   "outputs": [
    {
     "data": {
      "text/plain": [
       "470184    14.0\n",
       "475231    14.0\n",
       "473513    12.0\n",
       "481004    12.0\n",
       "475258    10.0\n",
       "          ... \n",
       "887374     NaN\n",
       "887375     NaN\n",
       "887376     NaN\n",
       "887377     NaN\n",
       "887378     NaN\n",
       "Name: open_acc_6m, Length: 887379, dtype: float64"
      ]
     },
     "execution_count": 75,
     "metadata": {},
     "output_type": "execute_result"
    }
   ],
   "source": [
    "df['open_acc_6m'].sort_values(ascending=False)"
   ]
  },
  {
   "cell_type": "code",
   "execution_count": 78,
   "metadata": {},
   "outputs": [
    {
     "data": {
      "text/plain": [
       "488854    40.0\n",
       "474474    34.0\n",
       "475544    33.0\n",
       "473846    33.0\n",
       "474349    32.0\n",
       "          ... \n",
       "887374     NaN\n",
       "887375     NaN\n",
       "887376     NaN\n",
       "887377     NaN\n",
       "887378     NaN\n",
       "Name: open_il_6m, Length: 887379, dtype: float64"
      ]
     },
     "execution_count": 78,
     "metadata": {},
     "output_type": "execute_result"
    }
   ],
   "source": [
    "df['open_il_6m'].sort_values(ascending=False)"
   ]
  },
  {
   "cell_type": "code",
   "execution_count": 81,
   "metadata": {},
   "outputs": [
    {
     "data": {
      "text/plain": [
       "484800    12.0\n",
       "475231    10.0\n",
       "478757    10.0\n",
       "478510     9.0\n",
       "467953     9.0\n",
       "          ... \n",
       "887374     NaN\n",
       "887375     NaN\n",
       "887376     NaN\n",
       "887377     NaN\n",
       "887378     NaN\n",
       "Name: open_il_12m, Length: 887379, dtype: float64"
      ]
     },
     "execution_count": 81,
     "metadata": {},
     "output_type": "execute_result"
    }
   ],
   "source": [
    "df['open_il_12m'].sort_values(ascending=False)"
   ]
  },
  {
   "cell_type": "code",
   "execution_count": 84,
   "metadata": {},
   "outputs": [
    {
     "data": {
      "text/plain": [
       "467953    19.0\n",
       "484341    15.0\n",
       "484800    15.0\n",
       "480175    14.0\n",
       "474062    14.0\n",
       "          ... \n",
       "887374     NaN\n",
       "887375     NaN\n",
       "887376     NaN\n",
       "887377     NaN\n",
       "887378     NaN\n",
       "Name: open_il_24m, Length: 887379, dtype: float64"
      ]
     },
     "execution_count": 84,
     "metadata": {},
     "output_type": "execute_result"
    }
   ],
   "source": [
    "df['open_il_24m'].sort_values(ascending=False)"
   ]
  },
  {
   "cell_type": "code",
   "execution_count": 87,
   "metadata": {},
   "outputs": [
    {
     "data": {
      "text/plain": [
       "478034    363.0\n",
       "466293    338.0\n",
       "474400    300.0\n",
       "468095    288.0\n",
       "466542    275.0\n",
       "          ...  \n",
       "887374      NaN\n",
       "887375      NaN\n",
       "887376      NaN\n",
       "887377      NaN\n",
       "887378      NaN\n",
       "Name: mths_since_rcnt_il, Length: 887379, dtype: float64"
      ]
     },
     "execution_count": 87,
     "metadata": {},
     "output_type": "execute_result"
    }
   ],
   "source": [
    "df['mths_since_rcnt_il'].sort_values(ascending=False)"
   ]
  },
  {
   "cell_type": "code",
   "execution_count": 90,
   "metadata": {},
   "outputs": [
    {
     "data": {
      "text/plain": [
       "468333    878459.0\n",
       "475544    634217.0\n",
       "469303    561918.0\n",
       "476119    554184.0\n",
       "470766    480133.0\n",
       "            ...   \n",
       "887374         NaN\n",
       "887375         NaN\n",
       "887376         NaN\n",
       "887377         NaN\n",
       "887378         NaN\n",
       "Name: total_bal_il, Length: 887379, dtype: float64"
      ]
     },
     "execution_count": 90,
     "metadata": {},
     "output_type": "execute_result"
    }
   ],
   "source": [
    "df['total_bal_il'].sort_values(ascending=False)"
   ]
  },
  {
   "cell_type": "code",
   "execution_count": 95,
   "metadata": {},
   "outputs": [
    {
     "data": {
      "text/plain": [
       "487450    223.3\n",
       "471845    209.9\n",
       "485828    200.0\n",
       "478489    191.8\n",
       "480313    179.2\n",
       "          ...  \n",
       "887374      NaN\n",
       "887375      NaN\n",
       "887376      NaN\n",
       "887377      NaN\n",
       "887378      NaN\n",
       "Name: il_util, Length: 887379, dtype: float64"
      ]
     },
     "execution_count": 95,
     "metadata": {},
     "output_type": "execute_result"
    }
   ],
   "source": [
    "df['il_util'].sort_values(ascending=False)"
   ]
  },
  {
   "cell_type": "code",
   "execution_count": 98,
   "metadata": {},
   "outputs": [
    {
     "data": {
      "text/plain": [
       "473513    22.0\n",
       "481948    19.0\n",
       "468732    16.0\n",
       "469085    15.0\n",
       "475258    15.0\n",
       "          ... \n",
       "887374     NaN\n",
       "887375     NaN\n",
       "887376     NaN\n",
       "887377     NaN\n",
       "887378     NaN\n",
       "Name: open_rv_12m, Length: 887379, dtype: float64"
      ]
     },
     "execution_count": 98,
     "metadata": {},
     "output_type": "execute_result"
    }
   ],
   "source": [
    "df['open_rv_12m'].sort_values(ascending=False)"
   ]
  },
  {
   "cell_type": "code",
   "execution_count": 101,
   "metadata": {},
   "outputs": [
    {
     "data": {
      "text/plain": [
       "473513    43.0\n",
       "475258    30.0\n",
       "468679    29.0\n",
       "468732    27.0\n",
       "487437    24.0\n",
       "          ... \n",
       "887374     NaN\n",
       "887375     NaN\n",
       "887376     NaN\n",
       "887377     NaN\n",
       "887378     NaN\n",
       "Name: open_rv_24m, Length: 887379, dtype: float64"
      ]
     },
     "execution_count": 101,
     "metadata": {},
     "output_type": "execute_result"
    }
   ],
   "source": [
    "df['open_rv_24m'].sort_values(ascending=False)"
   ]
  },
  {
   "cell_type": "code",
   "execution_count": 104,
   "metadata": {},
   "outputs": [
    {
     "data": {
      "text/plain": [
       "473760    127305.0\n",
       "466705    100973.0\n",
       "473629     83047.0\n",
       "470054     64490.0\n",
       "473686     64245.0\n",
       "            ...   \n",
       "887374         NaN\n",
       "887375         NaN\n",
       "887376         NaN\n",
       "887377         NaN\n",
       "887378         NaN\n",
       "Name: max_bal_bc, Length: 887379, dtype: float64"
      ]
     },
     "execution_count": 104,
     "metadata": {},
     "output_type": "execute_result"
    }
   ],
   "source": [
    "df['max_bal_bc'].sort_values(ascending=False)"
   ]
  },
  {
   "cell_type": "code",
   "execution_count": 107,
   "metadata": {},
   "outputs": [
    {
     "data": {
      "text/plain": [
       "482352    151.4\n",
       "481158    146.4\n",
       "475544    141.0\n",
       "483843    140.0\n",
       "487450    138.1\n",
       "          ...  \n",
       "887374      NaN\n",
       "887375      NaN\n",
       "887376      NaN\n",
       "887377      NaN\n",
       "887378      NaN\n",
       "Name: all_util, Length: 887379, dtype: float64"
      ]
     },
     "execution_count": 107,
     "metadata": {},
     "output_type": "execute_result"
    }
   ],
   "source": [
    "df['all_util'].sort_values(ascending=False)"
   ]
  },
  {
   "cell_type": "code",
   "execution_count": 110,
   "metadata": {},
   "outputs": [
    {
     "data": {
      "text/plain": [
       "301370    9999999.0\n",
       "129958    9999999.0\n",
       "755746    9999999.0\n",
       "178261    2013133.0\n",
       "60570     1998700.0\n",
       "            ...    \n",
       "230652          NaN\n",
       "230653          NaN\n",
       "230654          NaN\n",
       "230655          NaN\n",
       "230656          NaN\n",
       "Name: total_rev_hi_lim, Length: 887379, dtype: float64"
      ]
     },
     "execution_count": 110,
     "metadata": {},
     "output_type": "execute_result"
    }
   ],
   "source": [
    "df['total_rev_hi_lim'].sort_values(ascending=False)"
   ]
  },
  {
   "cell_type": "code",
   "execution_count": 113,
   "metadata": {},
   "outputs": [
    {
     "data": {
      "text/plain": [
       "468466    17.0\n",
       "466687    16.0\n",
       "488375    15.0\n",
       "482741    14.0\n",
       "471642    14.0\n",
       "          ... \n",
       "887374     NaN\n",
       "887375     NaN\n",
       "887376     NaN\n",
       "887377     NaN\n",
       "887378     NaN\n",
       "Name: inq_fi, Length: 887379, dtype: float64"
      ]
     },
     "execution_count": 113,
     "metadata": {},
     "output_type": "execute_result"
    }
   ],
   "source": [
    "df['inq_fi'].sort_values(ascending=False)"
   ]
  },
  {
   "cell_type": "code",
   "execution_count": 118,
   "metadata": {},
   "outputs": [
    {
     "data": {
      "text/plain": [
       "476429    35.0\n",
       "475581    33.0\n",
       "477385    32.0\n",
       "475483    30.0\n",
       "474623    29.0\n",
       "          ... \n",
       "887374     NaN\n",
       "887375     NaN\n",
       "887376     NaN\n",
       "887377     NaN\n",
       "887378     NaN\n",
       "Name: total_cu_tl, Length: 887379, dtype: float64"
      ]
     },
     "execution_count": 118,
     "metadata": {},
     "output_type": "execute_result"
    }
   ],
   "source": [
    "df['total_cu_tl'].sort_values(ascending=False)"
   ]
  },
  {
   "cell_type": "code",
   "execution_count": 121,
   "metadata": {},
   "outputs": [
    {
     "data": {
      "text/plain": [
       "484240    32.0\n",
       "469905    30.0\n",
       "467386    26.0\n",
       "473475    25.0\n",
       "478223    25.0\n",
       "          ... \n",
       "887374     NaN\n",
       "887375     NaN\n",
       "887376     NaN\n",
       "887377     NaN\n",
       "887378     NaN\n",
       "Name: inq_last_12m, Length: 887379, dtype: float64"
      ]
     },
     "execution_count": 121,
     "metadata": {},
     "output_type": "execute_result"
    }
   ],
   "source": [
    "df['inq_last_12m'].sort_values(ascending=False)"
   ]
  },
  {
   "cell_type": "markdown",
   "metadata": {},
   "source": [
    "### Other Columns"
   ]
  },
  {
   "cell_type": "code",
   "execution_count": 123,
   "metadata": {},
   "outputs": [
    {
     "data": {
      "text/plain": [
       "annual_inc                 4\n",
       "collection_recovery_fee    0\n",
       "application_type           0\n",
       "policy_code                0\n",
       "last_pymnt_amnt            0\n",
       "id                         0\n",
       "recoveries                 0\n",
       "pymnt_plan                 0\n",
       "loan_amnt                  0\n",
       "funded_amnt                0\n",
       "funded_amnt_inv            0\n",
       "term                       0\n",
       "int_rate                   0\n",
       "installment                0\n",
       "grade                      0\n",
       "sub_grade                  0\n",
       "home_ownership             0\n",
       "verification_status        0\n",
       "issue_d                    0\n",
       "loan_status                0\n",
       "url                        0\n",
       "total_rec_late_fee         0\n",
       "purpose                    0\n",
       "zip_code                   0\n",
       "addr_state                 0\n",
       "dti                        0\n",
       "revol_bal                  0\n",
       "initial_list_status        0\n",
       "out_prncp                  0\n",
       "member_id                  0\n",
       "total_pymnt                0\n",
       "total_pymnt_inv            0\n",
       "total_rec_prncp            0\n",
       "total_rec_int              0\n",
       "out_prncp_inv              0\n",
       "dtype: int64"
      ]
     },
     "execution_count": 123,
     "metadata": {},
     "output_type": "execute_result"
    }
   ],
   "source": [
    "# Finding NaNs (Not a Number) / Nulls (Zeros) in our data.\n",
    "df.isnull().sum().sort_values(ascending=False).tail(35)"
   ]
  },
  {
   "cell_type": "code",
   "execution_count": 124,
   "metadata": {},
   "outputs": [],
   "source": [
    "df_nn = df[['collection_recovery_fee', 'application_type', 'policy_code', 'last_pymnt_amnt', 'id', 'recoveries', 'pymnt_plan', 'loan_amnt', 'funded_amnt', 'funded_amnt_inv',\n",
    "'term', 'int_rate', 'installment', 'grade', 'sub_grade', 'home_ownership', 'verification_status', 'issue_d', 'loan_status', 'url', 'total_rec_late_fee', 'purpose', 'zip_code',\n",
    "'addr_state', 'dti', 'revol_bal', 'initial_list_status', 'out_prncp', 'member_id', 'total_pymnt', 'total_pymnt_inv', 'total_rec_prncp', 'total_rec_int', 'out_prncp_inv']]"
   ]
  },
  {
   "cell_type": "code",
   "execution_count": 126,
   "metadata": {},
   "outputs": [
    {
     "data": {
      "text/html": [
       "<div>\n",
       "<style scoped>\n",
       "    .dataframe tbody tr th:only-of-type {\n",
       "        vertical-align: middle;\n",
       "    }\n",
       "\n",
       "    .dataframe tbody tr th {\n",
       "        vertical-align: top;\n",
       "    }\n",
       "\n",
       "    .dataframe thead th {\n",
       "        text-align: right;\n",
       "    }\n",
       "</style>\n",
       "<table border=\"1\" class=\"dataframe\">\n",
       "  <thead>\n",
       "    <tr style=\"text-align: right;\">\n",
       "      <th></th>\n",
       "      <th>collection_recovery_fee</th>\n",
       "      <th>policy_code</th>\n",
       "      <th>last_pymnt_amnt</th>\n",
       "      <th>id</th>\n",
       "      <th>recoveries</th>\n",
       "      <th>loan_amnt</th>\n",
       "      <th>funded_amnt</th>\n",
       "      <th>funded_amnt_inv</th>\n",
       "      <th>int_rate</th>\n",
       "      <th>installment</th>\n",
       "      <th>total_rec_late_fee</th>\n",
       "      <th>dti</th>\n",
       "      <th>revol_bal</th>\n",
       "      <th>out_prncp</th>\n",
       "      <th>member_id</th>\n",
       "      <th>total_pymnt</th>\n",
       "      <th>total_pymnt_inv</th>\n",
       "      <th>total_rec_prncp</th>\n",
       "      <th>total_rec_int</th>\n",
       "      <th>out_prncp_inv</th>\n",
       "    </tr>\n",
       "  </thead>\n",
       "  <tbody>\n",
       "    <tr>\n",
       "      <th>count</th>\n",
       "      <td>887379.000000</td>\n",
       "      <td>887379.0</td>\n",
       "      <td>887379.000000</td>\n",
       "      <td>8.873790e+05</td>\n",
       "      <td>887379.000000</td>\n",
       "      <td>887379.000000</td>\n",
       "      <td>887379.000000</td>\n",
       "      <td>887379.000000</td>\n",
       "      <td>887379.000000</td>\n",
       "      <td>887379.000000</td>\n",
       "      <td>887379.000000</td>\n",
       "      <td>887379.000000</td>\n",
       "      <td>8.873790e+05</td>\n",
       "      <td>887379.000000</td>\n",
       "      <td>8.873790e+05</td>\n",
       "      <td>887379.000000</td>\n",
       "      <td>887379.000000</td>\n",
       "      <td>887379.000000</td>\n",
       "      <td>887379.000000</td>\n",
       "      <td>887379.000000</td>\n",
       "    </tr>\n",
       "    <tr>\n",
       "      <th>mean</th>\n",
       "      <td>4.880757</td>\n",
       "      <td>1.0</td>\n",
       "      <td>2164.145585</td>\n",
       "      <td>3.246513e+07</td>\n",
       "      <td>45.919243</td>\n",
       "      <td>14755.264605</td>\n",
       "      <td>14741.877625</td>\n",
       "      <td>14702.464383</td>\n",
       "      <td>13.246740</td>\n",
       "      <td>436.717127</td>\n",
       "      <td>0.396692</td>\n",
       "      <td>18.157039</td>\n",
       "      <td>1.692079e+04</td>\n",
       "      <td>8403.124852</td>\n",
       "      <td>3.500182e+07</td>\n",
       "      <td>7558.826684</td>\n",
       "      <td>7521.160306</td>\n",
       "      <td>5757.706424</td>\n",
       "      <td>1754.804327</td>\n",
       "      <td>8399.713242</td>\n",
       "    </tr>\n",
       "    <tr>\n",
       "      <th>std</th>\n",
       "      <td>63.125281</td>\n",
       "      <td>0.0</td>\n",
       "      <td>4794.783233</td>\n",
       "      <td>2.282734e+07</td>\n",
       "      <td>409.693874</td>\n",
       "      <td>8435.455601</td>\n",
       "      <td>8429.897657</td>\n",
       "      <td>8442.106732</td>\n",
       "      <td>4.381867</td>\n",
       "      <td>244.186593</td>\n",
       "      <td>4.087825</td>\n",
       "      <td>17.190626</td>\n",
       "      <td>2.242679e+04</td>\n",
       "      <td>8493.450269</td>\n",
       "      <td>2.411335e+07</td>\n",
       "      <td>7871.243336</td>\n",
       "      <td>7846.108604</td>\n",
       "      <td>6625.441046</td>\n",
       "      <td>2095.356099</td>\n",
       "      <td>8489.997617</td>\n",
       "    </tr>\n",
       "    <tr>\n",
       "      <th>min</th>\n",
       "      <td>0.000000</td>\n",
       "      <td>1.0</td>\n",
       "      <td>0.000000</td>\n",
       "      <td>5.473400e+04</td>\n",
       "      <td>0.000000</td>\n",
       "      <td>500.000000</td>\n",
       "      <td>500.000000</td>\n",
       "      <td>0.000000</td>\n",
       "      <td>5.320000</td>\n",
       "      <td>15.670000</td>\n",
       "      <td>0.000000</td>\n",
       "      <td>0.000000</td>\n",
       "      <td>0.000000e+00</td>\n",
       "      <td>0.000000</td>\n",
       "      <td>7.047300e+04</td>\n",
       "      <td>0.000000</td>\n",
       "      <td>0.000000</td>\n",
       "      <td>0.000000</td>\n",
       "      <td>0.000000</td>\n",
       "      <td>0.000000</td>\n",
       "    </tr>\n",
       "    <tr>\n",
       "      <th>25%</th>\n",
       "      <td>0.000000</td>\n",
       "      <td>1.0</td>\n",
       "      <td>280.170000</td>\n",
       "      <td>9.206643e+06</td>\n",
       "      <td>0.000000</td>\n",
       "      <td>8000.000000</td>\n",
       "      <td>8000.000000</td>\n",
       "      <td>8000.000000</td>\n",
       "      <td>9.990000</td>\n",
       "      <td>260.705000</td>\n",
       "      <td>0.000000</td>\n",
       "      <td>11.910000</td>\n",
       "      <td>6.443000e+03</td>\n",
       "      <td>0.000000</td>\n",
       "      <td>1.087713e+07</td>\n",
       "      <td>1914.590000</td>\n",
       "      <td>1899.700000</td>\n",
       "      <td>1200.570000</td>\n",
       "      <td>441.460000</td>\n",
       "      <td>0.000000</td>\n",
       "    </tr>\n",
       "    <tr>\n",
       "      <th>50%</th>\n",
       "      <td>0.000000</td>\n",
       "      <td>1.0</td>\n",
       "      <td>462.780000</td>\n",
       "      <td>3.443327e+07</td>\n",
       "      <td>0.000000</td>\n",
       "      <td>13000.000000</td>\n",
       "      <td>13000.000000</td>\n",
       "      <td>13000.000000</td>\n",
       "      <td>12.990000</td>\n",
       "      <td>382.550000</td>\n",
       "      <td>0.000000</td>\n",
       "      <td>17.650000</td>\n",
       "      <td>1.187500e+04</td>\n",
       "      <td>6458.290000</td>\n",
       "      <td>3.709528e+07</td>\n",
       "      <td>4894.999117</td>\n",
       "      <td>4862.010000</td>\n",
       "      <td>3215.320000</td>\n",
       "      <td>1073.280000</td>\n",
       "      <td>6455.810000</td>\n",
       "    </tr>\n",
       "    <tr>\n",
       "      <th>75%</th>\n",
       "      <td>0.000000</td>\n",
       "      <td>1.0</td>\n",
       "      <td>831.245000</td>\n",
       "      <td>5.490814e+07</td>\n",
       "      <td>0.000000</td>\n",
       "      <td>20000.000000</td>\n",
       "      <td>20000.000000</td>\n",
       "      <td>20000.000000</td>\n",
       "      <td>16.200000</td>\n",
       "      <td>572.600000</td>\n",
       "      <td>0.000000</td>\n",
       "      <td>23.950000</td>\n",
       "      <td>2.082900e+04</td>\n",
       "      <td>13659.055000</td>\n",
       "      <td>5.847135e+07</td>\n",
       "      <td>10616.814231</td>\n",
       "      <td>10565.690000</td>\n",
       "      <td>8000.000000</td>\n",
       "      <td>2238.265000</td>\n",
       "      <td>13654.050000</td>\n",
       "    </tr>\n",
       "    <tr>\n",
       "      <th>max</th>\n",
       "      <td>7002.190000</td>\n",
       "      <td>1.0</td>\n",
       "      <td>36475.590000</td>\n",
       "      <td>6.861706e+07</td>\n",
       "      <td>33520.270000</td>\n",
       "      <td>35000.000000</td>\n",
       "      <td>35000.000000</td>\n",
       "      <td>35000.000000</td>\n",
       "      <td>28.990000</td>\n",
       "      <td>1445.460000</td>\n",
       "      <td>358.680000</td>\n",
       "      <td>9999.000000</td>\n",
       "      <td>2.904836e+06</td>\n",
       "      <td>49372.860000</td>\n",
       "      <td>7.354484e+07</td>\n",
       "      <td>57777.579870</td>\n",
       "      <td>57777.580000</td>\n",
       "      <td>35000.030000</td>\n",
       "      <td>24205.620000</td>\n",
       "      <td>49372.860000</td>\n",
       "    </tr>\n",
       "  </tbody>\n",
       "</table>\n",
       "</div>"
      ],
      "text/plain": [
       "       collection_recovery_fee  policy_code  last_pymnt_amnt            id  \\\n",
       "count            887379.000000     887379.0    887379.000000  8.873790e+05   \n",
       "mean                  4.880757          1.0      2164.145585  3.246513e+07   \n",
       "std                  63.125281          0.0      4794.783233  2.282734e+07   \n",
       "min                   0.000000          1.0         0.000000  5.473400e+04   \n",
       "25%                   0.000000          1.0       280.170000  9.206643e+06   \n",
       "50%                   0.000000          1.0       462.780000  3.443327e+07   \n",
       "75%                   0.000000          1.0       831.245000  5.490814e+07   \n",
       "max                7002.190000          1.0     36475.590000  6.861706e+07   \n",
       "\n",
       "          recoveries      loan_amnt    funded_amnt  funded_amnt_inv  \\\n",
       "count  887379.000000  887379.000000  887379.000000    887379.000000   \n",
       "mean       45.919243   14755.264605   14741.877625     14702.464383   \n",
       "std       409.693874    8435.455601    8429.897657      8442.106732   \n",
       "min         0.000000     500.000000     500.000000         0.000000   \n",
       "25%         0.000000    8000.000000    8000.000000      8000.000000   \n",
       "50%         0.000000   13000.000000   13000.000000     13000.000000   \n",
       "75%         0.000000   20000.000000   20000.000000     20000.000000   \n",
       "max     33520.270000   35000.000000   35000.000000     35000.000000   \n",
       "\n",
       "            int_rate    installment  total_rec_late_fee            dti  \\\n",
       "count  887379.000000  887379.000000       887379.000000  887379.000000   \n",
       "mean       13.246740     436.717127            0.396692      18.157039   \n",
       "std         4.381867     244.186593            4.087825      17.190626   \n",
       "min         5.320000      15.670000            0.000000       0.000000   \n",
       "25%         9.990000     260.705000            0.000000      11.910000   \n",
       "50%        12.990000     382.550000            0.000000      17.650000   \n",
       "75%        16.200000     572.600000            0.000000      23.950000   \n",
       "max        28.990000    1445.460000          358.680000    9999.000000   \n",
       "\n",
       "          revol_bal      out_prncp     member_id    total_pymnt  \\\n",
       "count  8.873790e+05  887379.000000  8.873790e+05  887379.000000   \n",
       "mean   1.692079e+04    8403.124852  3.500182e+07    7558.826684   \n",
       "std    2.242679e+04    8493.450269  2.411335e+07    7871.243336   \n",
       "min    0.000000e+00       0.000000  7.047300e+04       0.000000   \n",
       "25%    6.443000e+03       0.000000  1.087713e+07    1914.590000   \n",
       "50%    1.187500e+04    6458.290000  3.709528e+07    4894.999117   \n",
       "75%    2.082900e+04   13659.055000  5.847135e+07   10616.814231   \n",
       "max    2.904836e+06   49372.860000  7.354484e+07   57777.579870   \n",
       "\n",
       "       total_pymnt_inv  total_rec_prncp  total_rec_int  out_prncp_inv  \n",
       "count    887379.000000    887379.000000  887379.000000  887379.000000  \n",
       "mean       7521.160306      5757.706424    1754.804327    8399.713242  \n",
       "std        7846.108604      6625.441046    2095.356099    8489.997617  \n",
       "min           0.000000         0.000000       0.000000       0.000000  \n",
       "25%        1899.700000      1200.570000     441.460000       0.000000  \n",
       "50%        4862.010000      3215.320000    1073.280000    6455.810000  \n",
       "75%       10565.690000      8000.000000    2238.265000   13654.050000  \n",
       "max       57777.580000     35000.030000   24205.620000   49372.860000  "
      ]
     },
     "execution_count": 126,
     "metadata": {},
     "output_type": "execute_result"
    }
   ],
   "source": [
    "df_nn.describe()"
   ]
  },
  {
   "cell_type": "code",
   "execution_count": 128,
   "metadata": {},
   "outputs": [
    {
     "data": {
      "text/plain": [
       "22943     7002.1900\n",
       "32900     6972.5900\n",
       "37083     6543.0400\n",
       "32899     5774.8000\n",
       "48305     5694.0936\n",
       "            ...    \n",
       "307016       0.0000\n",
       "307017       0.0000\n",
       "307018       0.0000\n",
       "307019       0.0000\n",
       "887378       0.0000\n",
       "Name: collection_recovery_fee, Length: 887379, dtype: float64"
      ]
     },
     "execution_count": 128,
     "metadata": {},
     "output_type": "execute_result"
    }
   ],
   "source": [
    "df_nn['collection_recovery_fee'].sort_values(ascending=False)"
   ]
  },
  {
   "cell_type": "code",
   "execution_count": 129,
   "metadata": {},
   "outputs": [
    {
     "data": {
      "text/plain": [
       "492272         JOINT\n",
       "473112         JOINT\n",
       "541380         JOINT\n",
       "475798         JOINT\n",
       "494504         JOINT\n",
       "             ...    \n",
       "295796    INDIVIDUAL\n",
       "295797    INDIVIDUAL\n",
       "295798    INDIVIDUAL\n",
       "295799    INDIVIDUAL\n",
       "887378    INDIVIDUAL\n",
       "Name: application_type, Length: 887379, dtype: object"
      ]
     },
     "execution_count": 129,
     "metadata": {},
     "output_type": "execute_result"
    }
   ],
   "source": [
    "df_nn['application_type'].sort_values(ascending=False)"
   ]
  },
  {
   "cell_type": "code",
   "execution_count": 130,
   "metadata": {},
   "outputs": [
    {
     "data": {
      "text/plain": [
       "0         1.0\n",
       "591590    1.0\n",
       "591579    1.0\n",
       "591580    1.0\n",
       "591581    1.0\n",
       "         ... \n",
       "295796    1.0\n",
       "295797    1.0\n",
       "295798    1.0\n",
       "295799    1.0\n",
       "887378    1.0\n",
       "Name: policy_code, Length: 887379, dtype: float64"
      ]
     },
     "execution_count": 130,
     "metadata": {},
     "output_type": "execute_result"
    }
   ],
   "source": [
    "df_nn['policy_code'].sort_values(ascending=False)"
   ]
  },
  {
   "cell_type": "code",
   "execution_count": 133,
   "metadata": {},
   "outputs": [
    {
     "data": {
      "text/plain": [
       "815014    36475.59\n",
       "783622    36347.05\n",
       "674122    36257.59\n",
       "237015    36234.44\n",
       "588764    36224.17\n",
       "            ...   \n",
       "474740        0.00\n",
       "474739        0.00\n",
       "474738        0.00\n",
       "474737        0.00\n",
       "482796        0.00\n",
       "Name: last_pymnt_amnt, Length: 887379, dtype: float64"
      ]
     },
     "execution_count": 133,
     "metadata": {},
     "output_type": "execute_result"
    }
   ],
   "source": [
    "df_nn['last_pymnt_amnt'].sort_values(ascending=False)"
   ]
  },
  {
   "cell_type": "code",
   "execution_count": 134,
   "metadata": {},
   "outputs": [
    {
     "data": {
      "text/plain": [
       "466305    68617057\n",
       "466388    68617034\n",
       "466454    68616919\n",
       "466462    68616891\n",
       "466303    68616873\n",
       "            ...   \n",
       "516885       56705\n",
       "41654        56413\n",
       "38739        55742\n",
       "41534        55521\n",
       "35836        54734\n",
       "Name: id, Length: 887379, dtype: int64"
      ]
     },
     "execution_count": 134,
     "metadata": {},
     "output_type": "execute_result"
    }
   ],
   "source": [
    "df_nn['id'].sort_values(ascending=False)"
   ]
  },
  {
   "cell_type": "code",
   "execution_count": 135,
   "metadata": {},
   "outputs": [
    {
     "data": {
      "text/plain": [
       "202939    33520.27\n",
       "48305     31900.52\n",
       "3668      29623.35\n",
       "215225    29282.07\n",
       "42191     27750.00\n",
       "            ...   \n",
       "307790        0.00\n",
       "307791        0.00\n",
       "307792        0.00\n",
       "307793        0.00\n",
       "887378        0.00\n",
       "Name: recoveries, Length: 887379, dtype: float64"
      ]
     },
     "execution_count": 135,
     "metadata": {},
     "output_type": "execute_result"
    }
   ],
   "source": [
    "df_nn['recoveries'].sort_values(ascending=False)"
   ]
  },
  {
   "cell_type": "code",
   "execution_count": 136,
   "metadata": {},
   "outputs": [
    {
     "data": {
      "text/plain": [
       "209010    y\n",
       "25684     y\n",
       "254214    y\n",
       "176278    y\n",
       "332312    y\n",
       "         ..\n",
       "295800    n\n",
       "295801    n\n",
       "295802    n\n",
       "295803    n\n",
       "887378    n\n",
       "Name: pymnt_plan, Length: 887379, dtype: object"
      ]
     },
     "execution_count": 136,
     "metadata": {},
     "output_type": "execute_result"
    }
   ],
   "source": [
    "df_nn['pymnt_plan'].sort_values(ascending=False)"
   ]
  },
  {
   "cell_type": "code",
   "execution_count": 138,
   "metadata": {},
   "outputs": [
    {
     "data": {
      "text/plain": [
       "758099    35000.0\n",
       "814939    35000.0\n",
       "358962    35000.0\n",
       "358967    35000.0\n",
       "434254    35000.0\n",
       "           ...   \n",
       "42136       500.0\n",
       "41824       500.0\n",
       "41704       500.0\n",
       "39442       500.0\n",
       "38932       500.0\n",
       "Name: loan_amnt, Length: 887379, dtype: float64"
      ]
     },
     "execution_count": 138,
     "metadata": {},
     "output_type": "execute_result"
    }
   ],
   "source": [
    "df_nn['loan_amnt'].sort_values(ascending=False)"
   ]
  },
  {
   "cell_type": "code",
   "execution_count": 139,
   "metadata": {},
   "outputs": [
    {
     "data": {
      "text/plain": [
       "449958    35000.0\n",
       "748622    35000.0\n",
       "459778    35000.0\n",
       "459791    35000.0\n",
       "459824    35000.0\n",
       "           ...   \n",
       "42320       500.0\n",
       "41824       500.0\n",
       "41704       500.0\n",
       "42362       500.0\n",
       "42417       500.0\n",
       "Name: funded_amnt, Length: 887379, dtype: float64"
      ]
     },
     "execution_count": 139,
     "metadata": {},
     "output_type": "execute_result"
    }
   ],
   "source": [
    "df_nn['funded_amnt'].sort_values(ascending=False)"
   ]
  },
  {
   "cell_type": "code",
   "execution_count": 140,
   "metadata": {},
   "outputs": [
    {
     "data": {
      "text/plain": [
       "485846    35000.0\n",
       "806707    35000.0\n",
       "476620    35000.0\n",
       "657919    35000.0\n",
       "300451    35000.0\n",
       "           ...   \n",
       "38667         0.0\n",
       "38672         0.0\n",
       "38800         0.0\n",
       "38673         0.0\n",
       "38475         0.0\n",
       "Name: funded_amnt_inv, Length: 887379, dtype: float64"
      ]
     },
     "execution_count": 140,
     "metadata": {},
     "output_type": "execute_result"
    }
   ],
   "source": [
    "df_nn['funded_amnt_inv'].sort_values(ascending=False)"
   ]
  },
  {
   "cell_type": "code",
   "execution_count": 141,
   "metadata": {},
   "outputs": [
    {
     "data": {
      "text/plain": [
       "443689     60 months\n",
       "295292     60 months\n",
       "295305     60 months\n",
       "668290     60 months\n",
       "295299     60 months\n",
       "             ...    \n",
       "336528     36 months\n",
       "336529     36 months\n",
       "336531     36 months\n",
       "336532     36 months\n",
       "887378     36 months\n",
       "Name: term, Length: 887379, dtype: object"
      ]
     },
     "execution_count": 141,
     "metadata": {},
     "output_type": "execute_result"
    }
   ],
   "source": [
    "df_nn['term'].sort_values(ascending=False)"
   ]
  },
  {
   "cell_type": "code",
   "execution_count": 142,
   "metadata": {},
   "outputs": [
    {
     "data": {
      "text/plain": [
       "704939    28.99\n",
       "618750    28.99\n",
       "536189    28.99\n",
       "544292    28.99\n",
       "561463    28.99\n",
       "          ...  \n",
       "733901     5.32\n",
       "579707     5.32\n",
       "487396     5.32\n",
       "733911     5.32\n",
       "710649     5.32\n",
       "Name: int_rate, Length: 887379, dtype: float64"
      ]
     },
     "execution_count": 142,
     "metadata": {},
     "output_type": "execute_result"
    }
   ],
   "source": [
    "df_nn['int_rate'].sort_values(ascending=False)"
   ]
  },
  {
   "cell_type": "code",
   "execution_count": 143,
   "metadata": {},
   "outputs": [
    {
     "data": {
      "text/plain": [
       "571358    1445.46\n",
       "578649    1445.46\n",
       "627085    1424.57\n",
       "735822    1424.57\n",
       "455343    1409.99\n",
       "           ...   \n",
       "42362       15.91\n",
       "42417       15.76\n",
       "41704       15.75\n",
       "39613       15.69\n",
       "41824       15.67\n",
       "Name: installment, Length: 887379, dtype: float64"
      ]
     },
     "execution_count": 143,
     "metadata": {},
     "output_type": "execute_result"
    }
   ],
   "source": [
    "df_nn['installment'].sort_values(ascending=False)"
   ]
  },
  {
   "cell_type": "code",
   "execution_count": 144,
   "metadata": {},
   "outputs": [
    {
     "data": {
      "text/plain": [
       "28896     G\n",
       "811406    G\n",
       "732812    G\n",
       "806860    G\n",
       "419749    G\n",
       "         ..\n",
       "759443    A\n",
       "217673    A\n",
       "217672    A\n",
       "447935    A\n",
       "268572    A\n",
       "Name: grade, Length: 887379, dtype: object"
      ]
     },
     "execution_count": 144,
     "metadata": {},
     "output_type": "execute_result"
    }
   ],
   "source": [
    "df_nn['grade'].sort_values(ascending=False)"
   ]
  },
  {
   "cell_type": "code",
   "execution_count": 145,
   "metadata": {},
   "outputs": [
    {
     "data": {
      "text/plain": [
       "635106    G5\n",
       "133609    G5\n",
       "465120    G5\n",
       "846367    G5\n",
       "457456    G5\n",
       "          ..\n",
       "844855    A1\n",
       "286088    A1\n",
       "21872     A1\n",
       "814473    A1\n",
       "384202    A1\n",
       "Name: sub_grade, Length: 887379, dtype: object"
      ]
     },
     "execution_count": 145,
     "metadata": {},
     "output_type": "execute_result"
    }
   ],
   "source": [
    "df_nn['sub_grade'].sort_values(ascending=False)"
   ]
  },
  {
   "cell_type": "code",
   "execution_count": 146,
   "metadata": {},
   "outputs": [
    {
     "data": {
      "text/plain": [
       "0             RENT\n",
       "465434        RENT\n",
       "465429        RENT\n",
       "465428        RENT\n",
       "465417        RENT\n",
       "            ...   \n",
       "501533    MORTGAGE\n",
       "501534    MORTGAGE\n",
       "669242         ANY\n",
       "492723         ANY\n",
       "311334         ANY\n",
       "Name: home_ownership, Length: 887379, dtype: object"
      ]
     },
     "execution_count": 146,
     "metadata": {},
     "output_type": "execute_result"
    }
   ],
   "source": [
    "df_nn['home_ownership'].sort_values(ascending=False)"
   ]
  },
  {
   "cell_type": "code",
   "execution_count": 147,
   "metadata": {},
   "outputs": [
    {
     "data": {
      "text/plain": [
       "0             Verified\n",
       "440914        Verified\n",
       "440907        Verified\n",
       "440905        Verified\n",
       "440902        Verified\n",
       "              ...     \n",
       "518552    Not Verified\n",
       "106554    Not Verified\n",
       "518545    Not Verified\n",
       "106561    Not Verified\n",
       "544196    Not Verified\n",
       "Name: verification_status, Length: 887379, dtype: object"
      ]
     },
     "execution_count": 147,
     "metadata": {},
     "output_type": "execute_result"
    }
   ],
   "source": [
    "df_nn['verification_status'].sort_values(ascending=False)"
   ]
  },
  {
   "cell_type": "code",
   "execution_count": 148,
   "metadata": {},
   "outputs": [
    {
     "data": {
      "text/plain": [
       "632260    Sep-2015\n",
       "608402    Sep-2015\n",
       "608408    Sep-2015\n",
       "608407    Sep-2015\n",
       "608406    Sep-2015\n",
       "            ...   \n",
       "38890     Apr-2008\n",
       "38891     Apr-2008\n",
       "38892     Apr-2008\n",
       "38893     Apr-2008\n",
       "38839     Apr-2008\n",
       "Name: issue_d, Length: 887379, dtype: object"
      ]
     },
     "execution_count": 148,
     "metadata": {},
     "output_type": "execute_result"
    }
   ],
   "source": [
    "df_nn['issue_d'].sort_values(ascending=False)"
   ]
  },
  {
   "cell_type": "code",
   "execution_count": 149,
   "metadata": {},
   "outputs": [
    {
     "data": {
      "text/plain": [
       "4597    https://www.lendingclub.com/browse/loanDetail....\n",
       "4596    https://www.lendingclub.com/browse/loanDetail....\n",
       "4595    https://www.lendingclub.com/browse/loanDetail....\n",
       "4476    https://www.lendingclub.com/browse/loanDetail....\n",
       "4600    https://www.lendingclub.com/browse/loanDetail....\n",
       "                              ...                        \n",
       "4588    https://www.lendingclub.com/browse/loanDetail....\n",
       "4560    https://www.lendingclub.com/browse/loanDetail....\n",
       "4591    https://www.lendingclub.com/browse/loanDetail....\n",
       "4592    https://www.lendingclub.com/browse/loanDetail....\n",
       "4594    https://www.lendingclub.com/browse/loanDetail....\n",
       "Name: url, Length: 887379, dtype: object"
      ]
     },
     "execution_count": 149,
     "metadata": {},
     "output_type": "execute_result"
    }
   ],
   "source": [
    "df_nn['url'].sort_values(ascending=False)"
   ]
  },
  {
   "cell_type": "code",
   "execution_count": 150,
   "metadata": {},
   "outputs": [
    {
     "data": {
      "text/plain": [
       "82926     358.680000\n",
       "80186     294.680000\n",
       "204892    286.747566\n",
       "43186     268.550000\n",
       "277295    252.800000\n",
       "             ...    \n",
       "300208      0.000000\n",
       "300209      0.000000\n",
       "300210      0.000000\n",
       "300211      0.000000\n",
       "887378      0.000000\n",
       "Name: total_rec_late_fee, Length: 887379, dtype: float64"
      ]
     },
     "execution_count": 150,
     "metadata": {},
     "output_type": "execute_result"
    }
   ],
   "source": [
    "df_nn['total_rec_late_fee'].sort_values(ascending=False)"
   ]
  },
  {
   "cell_type": "code",
   "execution_count": 151,
   "metadata": {},
   "outputs": [
    {
     "data": {
      "text/plain": [
       "212295    wedding\n",
       "19167     wedding\n",
       "213400    wedding\n",
       "31302     wedding\n",
       "116338    wedding\n",
       "           ...   \n",
       "684844        car\n",
       "486224        car\n",
       "865485        car\n",
       "684853        car\n",
       "207697        car\n",
       "Name: purpose, Length: 887379, dtype: object"
      ]
     },
     "execution_count": 151,
     "metadata": {},
     "output_type": "execute_result"
    }
   ],
   "source": [
    "df_nn['purpose'].sort_values(ascending=False)"
   ]
  },
  {
   "cell_type": "code",
   "execution_count": 152,
   "metadata": {},
   "outputs": [
    {
     "data": {
      "text/plain": [
       "381418    999xx\n",
       "239076    999xx\n",
       "773848    999xx\n",
       "830936    999xx\n",
       "794836    999xx\n",
       "          ...  \n",
       "547445    008xx\n",
       "342425    007xx\n",
       "285814    007xx\n",
       "29984     007xx\n",
       "649644    007xx\n",
       "Name: zip_code, Length: 887379, dtype: object"
      ]
     },
     "execution_count": 152,
     "metadata": {},
     "output_type": "execute_result"
    }
   ],
   "source": [
    "df_nn['zip_code'].sort_values(ascending=False)"
   ]
  },
  {
   "cell_type": "code",
   "execution_count": 153,
   "metadata": {},
   "outputs": [
    {
     "data": {
      "text/plain": [
       "546742    WY\n",
       "363296    WY\n",
       "448006    WY\n",
       "604203    WY\n",
       "363022    WY\n",
       "          ..\n",
       "546520    AK\n",
       "546499    AK\n",
       "120773    AK\n",
       "120765    AK\n",
       "831949    AK\n",
       "Name: addr_state, Length: 887379, dtype: object"
      ]
     },
     "execution_count": 153,
     "metadata": {},
     "output_type": "execute_result"
    }
   ],
   "source": [
    "df_nn['addr_state'].sort_values(ascending=False)"
   ]
  },
  {
   "cell_type": "code",
   "execution_count": 154,
   "metadata": {},
   "outputs": [
    {
     "data": {
      "text/plain": [
       "484446    9999.00\n",
       "531886    9999.00\n",
       "475046    1092.52\n",
       "540456     672.52\n",
       "532701     380.53\n",
       "           ...   \n",
       "31526        0.00\n",
       "247667       0.00\n",
       "38270        0.00\n",
       "15120        0.00\n",
       "15556        0.00\n",
       "Name: dti, Length: 887379, dtype: float64"
      ]
     },
     "execution_count": 154,
     "metadata": {},
     "output_type": "execute_result"
    }
   ],
   "source": [
    "df_nn['dti'].sort_values(ascending=False)"
   ]
  },
  {
   "cell_type": "code",
   "execution_count": 155,
   "metadata": {},
   "outputs": [
    {
     "data": {
      "text/plain": [
       "755746    2904836.0\n",
       "129958    2568995.0\n",
       "301370    2560703.0\n",
       "60570     1746716.0\n",
       "178261    1743266.0\n",
       "            ...    \n",
       "48055           0.0\n",
       "501831          0.0\n",
       "392636          0.0\n",
       "5392            0.0\n",
       "849250          0.0\n",
       "Name: revol_bal, Length: 887379, dtype: float64"
      ]
     },
     "execution_count": 155,
     "metadata": {},
     "output_type": "execute_result"
    }
   ],
   "source": [
    "df_nn['revol_bal'].sort_values(ascending=False)"
   ]
  },
  {
   "cell_type": "code",
   "execution_count": 156,
   "metadata": {},
   "outputs": [
    {
     "data": {
      "text/plain": [
       "562607    w\n",
       "293035    w\n",
       "293033    w\n",
       "293032    w\n",
       "293031    w\n",
       "         ..\n",
       "294012    f\n",
       "294014    f\n",
       "294015    f\n",
       "294017    f\n",
       "887378    f\n",
       "Name: initial_list_status, Length: 887379, dtype: object"
      ]
     },
     "execution_count": 156,
     "metadata": {},
     "output_type": "execute_result"
    }
   ],
   "source": [
    "df_nn['initial_list_status'].sort_values(ascending=False)"
   ]
  },
  {
   "cell_type": "code",
   "execution_count": 157,
   "metadata": {},
   "outputs": [
    {
     "data": {
      "text/plain": [
       "518390    49372.86\n",
       "522429    47406.94\n",
       "587737    40374.86\n",
       "471393    35000.00\n",
       "478572    35000.00\n",
       "            ...   \n",
       "169204        0.00\n",
       "169206        0.00\n",
       "169207        0.00\n",
       "169208        0.00\n",
       "0             0.00\n",
       "Name: out_prncp, Length: 887379, dtype: float64"
      ]
     },
     "execution_count": 157,
     "metadata": {},
     "output_type": "execute_result"
    }
   ],
   "source": [
    "df_nn['out_prncp'].sort_values(ascending=False)"
   ]
  },
  {
   "cell_type": "code",
   "execution_count": 158,
   "metadata": {},
   "outputs": [
    {
     "data": {
      "text/plain": [
       "466347    73544841\n",
       "466397    73544827\n",
       "466373    73542831\n",
       "466305    73519894\n",
       "466388    73519870\n",
       "            ...   \n",
       "42493        70694\n",
       "42534        70681\n",
       "42483        70651\n",
       "42527        70626\n",
       "42459        70473\n",
       "Name: member_id, Length: 887379, dtype: int64"
      ]
     },
     "execution_count": 158,
     "metadata": {},
     "output_type": "execute_result"
    }
   ],
   "source": [
    "df_nn['member_id'].sort_values(ascending=False)"
   ]
  },
  {
   "cell_type": "code",
   "execution_count": 159,
   "metadata": {},
   "outputs": [
    {
     "data": {
      "text/plain": [
       "207282    57777.579870\n",
       "206795    57060.139914\n",
       "7924      56809.051629\n",
       "200041    56087.909922\n",
       "194679    55982.649897\n",
       "              ...     \n",
       "468905        0.000000\n",
       "468906        0.000000\n",
       "468907        0.000000\n",
       "468908        0.000000\n",
       "478530        0.000000\n",
       "Name: total_pymnt, Length: 887379, dtype: float64"
      ]
     },
     "execution_count": 159,
     "metadata": {},
     "output_type": "execute_result"
    }
   ],
   "source": [
    "df_nn['total_pymnt'].sort_values(ascending=False)"
   ]
  },
  {
   "cell_type": "code",
   "execution_count": 160,
   "metadata": {},
   "outputs": [
    {
     "data": {
      "text/plain": [
       "207282    57777.58\n",
       "206795    57019.38\n",
       "7924      56475.05\n",
       "200041    56047.85\n",
       "194679    55982.65\n",
       "            ...   \n",
       "468919        0.00\n",
       "468920        0.00\n",
       "468921        0.00\n",
       "476725        0.00\n",
       "474529        0.00\n",
       "Name: total_pymnt_inv, Length: 887379, dtype: float64"
      ]
     },
     "execution_count": 160,
     "metadata": {},
     "output_type": "execute_result"
    }
   ],
   "source": [
    "df_nn['total_pymnt_inv'].sort_values(ascending=False)"
   ]
  },
  {
   "cell_type": "code",
   "execution_count": 161,
   "metadata": {},
   "outputs": [
    {
     "data": {
      "text/plain": [
       "19172     35000.03\n",
       "10023     35000.02\n",
       "19234     35000.02\n",
       "19459     35000.02\n",
       "19435     35000.02\n",
       "            ...   \n",
       "474689        0.00\n",
       "474690        0.00\n",
       "474691        0.00\n",
       "474692        0.00\n",
       "497980        0.00\n",
       "Name: total_rec_prncp, Length: 887379, dtype: float64"
      ]
     },
     "execution_count": 161,
     "metadata": {},
     "output_type": "execute_result"
    }
   ],
   "source": [
    "df_nn['total_rec_prncp'].sort_values(ascending=False)"
   ]
  },
  {
   "cell_type": "code",
   "execution_count": 162,
   "metadata": {},
   "outputs": [
    {
     "data": {
      "text/plain": [
       "223608    24205.62\n",
       "223060    23450.38\n",
       "217974    23172.31\n",
       "217842    23171.65\n",
       "10639     23062.45\n",
       "            ...   \n",
       "470346        0.00\n",
       "470347        0.00\n",
       "478845        0.00\n",
       "470348        0.00\n",
       "468253        0.00\n",
       "Name: total_rec_int, Length: 887379, dtype: float64"
      ]
     },
     "execution_count": 162,
     "metadata": {},
     "output_type": "execute_result"
    }
   ],
   "source": [
    "df_nn['total_rec_int'].sort_values(ascending=False)"
   ]
  },
  {
   "cell_type": "code",
   "execution_count": 163,
   "metadata": {},
   "outputs": [
    {
     "data": {
      "text/plain": [
       "518390    49372.86\n",
       "522429    47406.94\n",
       "587737    40374.86\n",
       "474772    35000.00\n",
       "476685    35000.00\n",
       "            ...   \n",
       "169191        0.00\n",
       "169193        0.00\n",
       "169195        0.00\n",
       "169196        0.00\n",
       "0             0.00\n",
       "Name: out_prncp_inv, Length: 887379, dtype: float64"
      ]
     },
     "execution_count": 163,
     "metadata": {},
     "output_type": "execute_result"
    }
   ],
   "source": [
    "df_nn['out_prncp_inv'].sort_values(ascending=False)"
   ]
  },
  {
   "cell_type": "markdown",
   "metadata": {},
   "source": [
    "### c. Duplication Handling"
   ]
  },
  {
   "cell_type": "code",
   "execution_count": null,
   "metadata": {},
   "outputs": [],
   "source": []
  },
  {
   "cell_type": "markdown",
   "metadata": {},
   "source": [
    "### d. Class Balance"
   ]
  },
  {
   "cell_type": "markdown",
   "metadata": {},
   "source": [
    "#### Original"
   ]
  },
  {
   "cell_type": "code",
   "execution_count": 164,
   "metadata": {},
   "outputs": [
    {
     "name": "stdout",
     "output_type": "stream",
     "text": [
      "Class Balance:  Current                                                601779\n",
      "Fully Paid                                             207723\n",
      "Charged Off                                             45248\n",
      "Late (31-120 days)                                      11591\n",
      "Issued                                                   8460\n",
      "In Grace Period                                          6253\n",
      "Late (16-30 days)                                        2357\n",
      "Does not meet the credit policy. Status:Fully Paid       1988\n",
      "Default                                                  1219\n",
      "Does not meet the credit policy. Status:Charged Off       761\n",
      "Name: loan_status, dtype: int64\n"
     ]
    },
    {
     "data": {
      "image/png": "[encoded data removed]",
      "text/plain": [
       "<Figure size 432x288 with 1 Axes>"
      ]
     },
     "metadata": {
      "needs_background": "light"
     },
     "output_type": "display_data"
    }
   ],
   "source": [
    "df['loan_status'].value_counts().plot(kind='bar')\n",
    "print(\"Class Balance: \", df['loan_status'].value_counts())"
   ]
  },
  {
   "cell_type": "markdown",
   "metadata": {},
   "source": [
    "#### New"
   ]
  },
  {
   "cell_type": "code",
   "execution_count": null,
   "metadata": {},
   "outputs": [],
   "source": [
    "df1['loan_status'].value_counts().plot(kind='bar')\n",
    "print(\"Class Balance: \", df1['loan_status'].value_counts())"
   ]
  },
  {
   "cell_type": "markdown",
   "metadata": {},
   "source": [
    "#### Modified"
   ]
  },
  {
   "cell_type": "code",
   "execution_count": null,
   "metadata": {},
   "outputs": [],
   "source": []
  },
  {
   "cell_type": "code",
   "execution_count": null,
   "metadata": {},
   "outputs": [],
   "source": []
  },
  {
   "cell_type": "markdown",
   "metadata": {},
   "source": [
    "## V. Data Preprocessing"
   ]
  },
  {
   "cell_type": "markdown",
   "metadata": {},
   "source": [
    "### a. Feature Selection"
   ]
  },
  {
   "cell_type": "code",
   "execution_count": null,
   "metadata": {},
   "outputs": [],
   "source": []
  },
  {
   "cell_type": "markdown",
   "metadata": {},
   "source": [
    "### b. Splitting Dataset"
   ]
  },
  {
   "cell_type": "code",
   "execution_count": null,
   "metadata": {},
   "outputs": [],
   "source": [
    "X = df1.drop(['hazardous'], axis=1) \n",
    "y = df1['hazardous']\n",
    "\n",
    "# Splitting dataframe between Train Set and Test Set\n",
    "X_train, X_test, y_train, y_test = train_test_split(X,y, stratify=y, train_size=0.7)\n",
    "\n",
    "print('X_Train Size : ', X_train.shape)\n",
    "print('X_Test Size  : ', X_test.shape)\n",
    "print('y_Train Size : ', y_train.shape)\n",
    "print('y_Test Size  : ', y_test.shape)"
   ]
  },
  {
   "cell_type": "code",
   "execution_count": null,
   "metadata": {},
   "outputs": [],
   "source": [
    "X_ann = df1.drop(['hazardous'], axis=1) \n",
    "y_ann = df1['hazardous']\n",
    "\n",
    "# Splitting dataframe between Train Set and Test Set\n",
    "X_train, X_test, y_train, y_test = train_test_split(X,y, stratify=y, train_size=0.7)\n",
    "\n",
    "print('X_Train Size : ', X_train.shape)\n",
    "print('X_Test Size  : ', X_test.shape)\n",
    "print('y_Train Size : ', y_train.shape)\n",
    "print('y_Test Size  : ', y_test.shape)"
   ]
  },
  {
   "cell_type": "markdown",
   "metadata": {},
   "source": [
    "### c. Dataset Balancing"
   ]
  },
  {
   "cell_type": "markdown",
   "metadata": {},
   "source": [
    "### d. Outlier Handling"
   ]
  },
  {
   "cell_type": "markdown",
   "metadata": {},
   "source": [
    "### e. Feature Scaling"
   ]
  },
  {
   "cell_type": "markdown",
   "metadata": {},
   "source": [
    "### f. Feature Encoding"
   ]
  },
  {
   "cell_type": "markdown",
   "metadata": {},
   "source": [
    "### g. Concat"
   ]
  }
 ],
 "metadata": {
  "kernelspec": {
   "display_name": "Python 3.9.12 ('base')",
   "language": "python",
   "name": "python3"
  },
  "language_info": {
   "codemirror_mode": {
    "name": "ipython",
    "version": 3
   },
   "file_extension": ".py",
   "mimetype": "text/x-python",
   "name": "python",
   "nbconvert_exporter": "python",
   "pygments_lexer": "ipython3",
   "version": "3.9.12"
  },
  "orig_nbformat": 4,
  "vscode": {
   "interpreter": {
    "hash": "fb26c2799632769ff949349bdf197b904ff929545fca6b113524e62029cfec5d"
   }
  }
 },
 "nbformat": 4,
 "nbformat_minor": 2
}
